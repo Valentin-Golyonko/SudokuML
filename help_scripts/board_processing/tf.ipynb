{
 "cells": [
  {
   "cell_type": "code",
   "execution_count": 159,
   "id": "initial_id",
   "metadata": {
    "collapsed": true,
    "ExecuteTime": {
     "end_time": "2024-02-06T21:32:57.564715291Z",
     "start_time": "2024-02-06T21:32:57.393311478Z"
    }
   },
   "outputs": [],
   "source": [
    "\"\"\"\n",
    "https://www.tensorflow.org/tutorials/quickstart/beginner\n",
    "https://www.tensorflow.org/tutorials/keras/classification\n",
    "\"\"\"\n",
    "\n",
    "import tensorflow as tf\n",
    "import tensorflow_datasets as tfds\n",
    "\n",
    "import numpy as np\n",
    "import matplotlib.pyplot as plt"
   ]
  },
  {
   "cell_type": "code",
   "outputs": [
    {
     "name": "stdout",
     "output_type": "stream",
     "text": [
      "tf = 2.15.0 | tfds = 4.9.4\n",
      "tf.Tensor(-186.23993, shape=(), dtype=float32)\n",
      "[]\n"
     ]
    }
   ],
   "source": [
    "\"\"\"Verify the installation\"\"\"\n",
    "\n",
    "print(f\"tf = {tf.__version__} | tfds = {tfds.__version__}\")\n",
    "print(tf.reduce_sum(tf.random.normal([1000, 1000])))\n",
    "print(tf.config.list_physical_devices(\"GPU\"))"
   ],
   "metadata": {
    "collapsed": false,
    "ExecuteTime": {
     "end_time": "2024-02-06T21:32:57.594491397Z",
     "start_time": "2024-02-06T21:32:57.489146445Z"
    }
   },
   "id": "2ef55bd19b92a8a3",
   "execution_count": 160
  },
  {
   "cell_type": "code",
   "outputs": [
    {
     "name": "stdout",
     "output_type": "stream",
     "text": [
      "x_train.shape =(60000, 28, 28) | y_train.shape = (60000,)\n",
      "x_test.shape =(10000, 28, 28) | y_test.shape = (10000,)\n"
     ]
    }
   ],
   "source": [
    "\"\"\"Load mnist data\"\"\"\n",
    "\n",
    "mnist = tf.keras.datasets.mnist\n",
    "\n",
    "(x_train, y_train), (x_test, y_test) = mnist.load_data()\n",
    "\n",
    "x_train, x_test = x_train / 255.0, x_test / 255.0\n",
    "\n",
    "print(f\"{x_train.shape =} | {y_train.shape = }\")\n",
    "print(f\"{x_test.shape =} | {y_test.shape = }\")"
   ],
   "metadata": {
    "collapsed": false,
    "ExecuteTime": {
     "end_time": "2024-02-06T21:32:57.824724807Z",
     "start_time": "2024-02-06T21:32:57.572960151Z"
    }
   },
   "id": "ee52c3018bdb9153",
   "execution_count": 161
  },
  {
   "cell_type": "code",
   "outputs": [
    {
     "name": "stdout",
     "output_type": "stream",
     "text": [
      "x_train[0].shape = (28, 28)\n",
      "X[0] data =\n"
     ]
    },
    {
     "data": {
      "text/plain": "array([[0.        , 0.        , 0.        , 0.        , 0.        ,\n        0.        , 0.        , 0.        , 0.        , 0.        ,\n        0.        , 0.        , 0.        , 0.        , 0.        ,\n        0.        , 0.        , 0.        , 0.        , 0.        ,\n        0.        , 0.        , 0.        , 0.        , 0.        ,\n        0.        , 0.        , 0.        ],\n       [0.        , 0.        , 0.        , 0.        , 0.        ,\n        0.        , 0.        , 0.        , 0.        , 0.        ,\n        0.        , 0.        , 0.        , 0.        , 0.        ,\n        0.        , 0.        , 0.        , 0.        , 0.        ,\n        0.        , 0.        , 0.        , 0.        , 0.        ,\n        0.        , 0.        , 0.        ],\n       [0.        , 0.        , 0.        , 0.        , 0.        ,\n        0.        , 0.        , 0.        , 0.        , 0.        ,\n        0.        , 0.        , 0.        , 0.        , 0.        ,\n        0.        , 0.        , 0.        , 0.        , 0.        ,\n        0.        , 0.        , 0.        , 0.        , 0.        ,\n        0.        , 0.        , 0.        ],\n       [0.        , 0.        , 0.        , 0.        , 0.        ,\n        0.        , 0.        , 0.        , 0.        , 0.        ,\n        0.        , 0.        , 0.        , 0.        , 0.        ,\n        0.        , 0.        , 0.        , 0.        , 0.        ,\n        0.        , 0.        , 0.        , 0.        , 0.        ,\n        0.        , 0.        , 0.        ],\n       [0.        , 0.        , 0.        , 0.        , 0.        ,\n        0.        , 0.        , 0.        , 0.        , 0.        ,\n        0.        , 0.        , 0.        , 0.        , 0.        ,\n        0.        , 0.        , 0.        , 0.        , 0.        ,\n        0.        , 0.        , 0.        , 0.        , 0.        ,\n        0.        , 0.        , 0.        ],\n       [0.        , 0.        , 0.        , 0.        , 0.        ,\n        0.        , 0.        , 0.        , 0.        , 0.        ,\n        0.        , 0.        , 0.01176471, 0.07058824, 0.07058824,\n        0.07058824, 0.49411765, 0.53333333, 0.68627451, 0.10196078,\n        0.65098039, 1.        , 0.96862745, 0.49803922, 0.        ,\n        0.        , 0.        , 0.        ],\n       [0.        , 0.        , 0.        , 0.        , 0.        ,\n        0.        , 0.        , 0.        , 0.11764706, 0.14117647,\n        0.36862745, 0.60392157, 0.66666667, 0.99215686, 0.99215686,\n        0.99215686, 0.99215686, 0.99215686, 0.88235294, 0.6745098 ,\n        0.99215686, 0.94901961, 0.76470588, 0.25098039, 0.        ,\n        0.        , 0.        , 0.        ],\n       [0.        , 0.        , 0.        , 0.        , 0.        ,\n        0.        , 0.        , 0.19215686, 0.93333333, 0.99215686,\n        0.99215686, 0.99215686, 0.99215686, 0.99215686, 0.99215686,\n        0.99215686, 0.99215686, 0.98431373, 0.36470588, 0.32156863,\n        0.32156863, 0.21960784, 0.15294118, 0.        , 0.        ,\n        0.        , 0.        , 0.        ],\n       [0.        , 0.        , 0.        , 0.        , 0.        ,\n        0.        , 0.        , 0.07058824, 0.85882353, 0.99215686,\n        0.99215686, 0.99215686, 0.99215686, 0.99215686, 0.77647059,\n        0.71372549, 0.96862745, 0.94509804, 0.        , 0.        ,\n        0.        , 0.        , 0.        , 0.        , 0.        ,\n        0.        , 0.        , 0.        ],\n       [0.        , 0.        , 0.        , 0.        , 0.        ,\n        0.        , 0.        , 0.        , 0.31372549, 0.61176471,\n        0.41960784, 0.99215686, 0.99215686, 0.80392157, 0.04313725,\n        0.        , 0.16862745, 0.60392157, 0.        , 0.        ,\n        0.        , 0.        , 0.        , 0.        , 0.        ,\n        0.        , 0.        , 0.        ],\n       [0.        , 0.        , 0.        , 0.        , 0.        ,\n        0.        , 0.        , 0.        , 0.        , 0.05490196,\n        0.00392157, 0.60392157, 0.99215686, 0.35294118, 0.        ,\n        0.        , 0.        , 0.        , 0.        , 0.        ,\n        0.        , 0.        , 0.        , 0.        , 0.        ,\n        0.        , 0.        , 0.        ],\n       [0.        , 0.        , 0.        , 0.        , 0.        ,\n        0.        , 0.        , 0.        , 0.        , 0.        ,\n        0.        , 0.54509804, 0.99215686, 0.74509804, 0.00784314,\n        0.        , 0.        , 0.        , 0.        , 0.        ,\n        0.        , 0.        , 0.        , 0.        , 0.        ,\n        0.        , 0.        , 0.        ],\n       [0.        , 0.        , 0.        , 0.        , 0.        ,\n        0.        , 0.        , 0.        , 0.        , 0.        ,\n        0.        , 0.04313725, 0.74509804, 0.99215686, 0.2745098 ,\n        0.        , 0.        , 0.        , 0.        , 0.        ,\n        0.        , 0.        , 0.        , 0.        , 0.        ,\n        0.        , 0.        , 0.        ],\n       [0.        , 0.        , 0.        , 0.        , 0.        ,\n        0.        , 0.        , 0.        , 0.        , 0.        ,\n        0.        , 0.        , 0.1372549 , 0.94509804, 0.88235294,\n        0.62745098, 0.42352941, 0.00392157, 0.        , 0.        ,\n        0.        , 0.        , 0.        , 0.        , 0.        ,\n        0.        , 0.        , 0.        ],\n       [0.        , 0.        , 0.        , 0.        , 0.        ,\n        0.        , 0.        , 0.        , 0.        , 0.        ,\n        0.        , 0.        , 0.        , 0.31764706, 0.94117647,\n        0.99215686, 0.99215686, 0.46666667, 0.09803922, 0.        ,\n        0.        , 0.        , 0.        , 0.        , 0.        ,\n        0.        , 0.        , 0.        ],\n       [0.        , 0.        , 0.        , 0.        , 0.        ,\n        0.        , 0.        , 0.        , 0.        , 0.        ,\n        0.        , 0.        , 0.        , 0.        , 0.17647059,\n        0.72941176, 0.99215686, 0.99215686, 0.58823529, 0.10588235,\n        0.        , 0.        , 0.        , 0.        , 0.        ,\n        0.        , 0.        , 0.        ],\n       [0.        , 0.        , 0.        , 0.        , 0.        ,\n        0.        , 0.        , 0.        , 0.        , 0.        ,\n        0.        , 0.        , 0.        , 0.        , 0.        ,\n        0.0627451 , 0.36470588, 0.98823529, 0.99215686, 0.73333333,\n        0.        , 0.        , 0.        , 0.        , 0.        ,\n        0.        , 0.        , 0.        ],\n       [0.        , 0.        , 0.        , 0.        , 0.        ,\n        0.        , 0.        , 0.        , 0.        , 0.        ,\n        0.        , 0.        , 0.        , 0.        , 0.        ,\n        0.        , 0.        , 0.97647059, 0.99215686, 0.97647059,\n        0.25098039, 0.        , 0.        , 0.        , 0.        ,\n        0.        , 0.        , 0.        ],\n       [0.        , 0.        , 0.        , 0.        , 0.        ,\n        0.        , 0.        , 0.        , 0.        , 0.        ,\n        0.        , 0.        , 0.        , 0.        , 0.18039216,\n        0.50980392, 0.71764706, 0.99215686, 0.99215686, 0.81176471,\n        0.00784314, 0.        , 0.        , 0.        , 0.        ,\n        0.        , 0.        , 0.        ],\n       [0.        , 0.        , 0.        , 0.        , 0.        ,\n        0.        , 0.        , 0.        , 0.        , 0.        ,\n        0.        , 0.        , 0.15294118, 0.58039216, 0.89803922,\n        0.99215686, 0.99215686, 0.99215686, 0.98039216, 0.71372549,\n        0.        , 0.        , 0.        , 0.        , 0.        ,\n        0.        , 0.        , 0.        ],\n       [0.        , 0.        , 0.        , 0.        , 0.        ,\n        0.        , 0.        , 0.        , 0.        , 0.        ,\n        0.09411765, 0.44705882, 0.86666667, 0.99215686, 0.99215686,\n        0.99215686, 0.99215686, 0.78823529, 0.30588235, 0.        ,\n        0.        , 0.        , 0.        , 0.        , 0.        ,\n        0.        , 0.        , 0.        ],\n       [0.        , 0.        , 0.        , 0.        , 0.        ,\n        0.        , 0.        , 0.        , 0.09019608, 0.25882353,\n        0.83529412, 0.99215686, 0.99215686, 0.99215686, 0.99215686,\n        0.77647059, 0.31764706, 0.00784314, 0.        , 0.        ,\n        0.        , 0.        , 0.        , 0.        , 0.        ,\n        0.        , 0.        , 0.        ],\n       [0.        , 0.        , 0.        , 0.        , 0.        ,\n        0.        , 0.07058824, 0.67058824, 0.85882353, 0.99215686,\n        0.99215686, 0.99215686, 0.99215686, 0.76470588, 0.31372549,\n        0.03529412, 0.        , 0.        , 0.        , 0.        ,\n        0.        , 0.        , 0.        , 0.        , 0.        ,\n        0.        , 0.        , 0.        ],\n       [0.        , 0.        , 0.        , 0.        , 0.21568627,\n        0.6745098 , 0.88627451, 0.99215686, 0.99215686, 0.99215686,\n        0.99215686, 0.95686275, 0.52156863, 0.04313725, 0.        ,\n        0.        , 0.        , 0.        , 0.        , 0.        ,\n        0.        , 0.        , 0.        , 0.        , 0.        ,\n        0.        , 0.        , 0.        ],\n       [0.        , 0.        , 0.        , 0.        , 0.53333333,\n        0.99215686, 0.99215686, 0.99215686, 0.83137255, 0.52941176,\n        0.51764706, 0.0627451 , 0.        , 0.        , 0.        ,\n        0.        , 0.        , 0.        , 0.        , 0.        ,\n        0.        , 0.        , 0.        , 0.        , 0.        ,\n        0.        , 0.        , 0.        ],\n       [0.        , 0.        , 0.        , 0.        , 0.        ,\n        0.        , 0.        , 0.        , 0.        , 0.        ,\n        0.        , 0.        , 0.        , 0.        , 0.        ,\n        0.        , 0.        , 0.        , 0.        , 0.        ,\n        0.        , 0.        , 0.        , 0.        , 0.        ,\n        0.        , 0.        , 0.        ],\n       [0.        , 0.        , 0.        , 0.        , 0.        ,\n        0.        , 0.        , 0.        , 0.        , 0.        ,\n        0.        , 0.        , 0.        , 0.        , 0.        ,\n        0.        , 0.        , 0.        , 0.        , 0.        ,\n        0.        , 0.        , 0.        , 0.        , 0.        ,\n        0.        , 0.        , 0.        ],\n       [0.        , 0.        , 0.        , 0.        , 0.        ,\n        0.        , 0.        , 0.        , 0.        , 0.        ,\n        0.        , 0.        , 0.        , 0.        , 0.        ,\n        0.        , 0.        , 0.        , 0.        , 0.        ,\n        0.        , 0.        , 0.        , 0.        , 0.        ,\n        0.        , 0.        , 0.        ]])"
     },
     "execution_count": 162,
     "metadata": {},
     "output_type": "execute_result"
    }
   ],
   "source": [
    "print(f\"{x_train[0].shape = }\")\n",
    "print(f\"X[0] data =\")\n",
    "x_train[0]"
   ],
   "metadata": {
    "collapsed": false,
    "ExecuteTime": {
     "end_time": "2024-02-06T21:32:57.827939543Z",
     "start_time": "2024-02-06T21:32:57.801795786Z"
    }
   },
   "id": "94c63fd2dbde3379",
   "execution_count": 162
  },
  {
   "cell_type": "code",
   "outputs": [
    {
     "name": "stdout",
     "output_type": "stream",
     "text": [
      "y_train[0].shape = ()\n",
      "Y[0] data (label) =\n"
     ]
    },
    {
     "data": {
      "text/plain": "5"
     },
     "execution_count": 163,
     "metadata": {},
     "output_type": "execute_result"
    }
   ],
   "source": [
    "print(f\"{y_train[0].shape = }\")\n",
    "print(f\"Y[0] data (label) =\")\n",
    "y_train[0]"
   ],
   "metadata": {
    "collapsed": false,
    "ExecuteTime": {
     "end_time": "2024-02-06T21:32:57.829622172Z",
     "start_time": "2024-02-06T21:32:57.805259099Z"
    }
   },
   "id": "bf85e6a7230e773f",
   "execution_count": 163
  },
  {
   "cell_type": "code",
   "outputs": [
    {
     "data": {
      "text/plain": "<Figure size 640x480 with 2 Axes>",
      "image/png": "[encoded data removed]"
     },
     "metadata": {},
     "output_type": "display_data"
    }
   ],
   "source": [
    "plt.figure()\n",
    "plt.imshow(x_train[0], cmap=plt.cm.binary)\n",
    "plt.colorbar()\n",
    "plt.grid(False)\n",
    "plt.show()"
   ],
   "metadata": {
    "collapsed": false,
    "ExecuteTime": {
     "end_time": "2024-02-06T21:32:57.969137542Z",
     "start_time": "2024-02-06T21:32:57.818683454Z"
    }
   },
   "id": "39e0fab7b67ec17e",
   "execution_count": 164
  },
  {
   "cell_type": "code",
   "outputs": [
    {
     "data": {
      "text/plain": "<Figure size 1000x1000 with 26 Axes>",
      "image/png": "[encoded data removed]"
     },
     "metadata": {},
     "output_type": "display_data"
    }
   ],
   "source": [
    "plt.figure(figsize=(10, 10))\n",
    "plt.title(\"MNIST\")\n",
    "for i in range(25):\n",
    "    plt.subplot(5, 5, i + 1)\n",
    "    plt.xticks([])\n",
    "    plt.yticks([])\n",
    "    plt.grid(False)\n",
    "    plt.imshow(x_train[i], cmap=plt.cm.binary)\n",
    "    plt.xlabel(y_train[i])\n",
    "plt.show()"
   ],
   "metadata": {
    "collapsed": false,
    "ExecuteTime": {
     "end_time": "2024-02-06T21:32:58.456071967Z",
     "start_time": "2024-02-06T21:32:57.955415949Z"
    }
   },
   "id": "2d6728fba9b6bcf9",
   "execution_count": 165
  },
  {
   "cell_type": "code",
   "outputs": [
    {
     "data": {
      "text/plain": "'---------------mnist_corrupted----------------'"
     },
     "execution_count": 166,
     "metadata": {},
     "output_type": "execute_result"
    }
   ],
   "source": [
    "\"\"\"---------------mnist_corrupted----------------\"\"\""
   ],
   "metadata": {
    "collapsed": false,
    "ExecuteTime": {
     "end_time": "2024-02-06T21:32:58.457792117Z",
     "start_time": "2024-02-06T21:32:58.438409725Z"
    }
   },
   "id": "d15f58278dec4ca9",
   "execution_count": 166
  },
  {
   "cell_type": "code",
   "outputs": [
    {
     "data": {
      "text/plain": "['abstract_reasoning',\n 'accentdb',\n 'aeslc',\n 'aflw2k3d',\n 'ag_news_subset',\n 'ai2_arc',\n 'ai2_arc_with_ir',\n 'amazon_us_reviews',\n 'anli',\n 'answer_equivalence',\n 'arc',\n 'asqa',\n 'asset',\n 'assin2',\n 'asu_table_top_converted_externally_to_rlds',\n 'austin_buds_dataset_converted_externally_to_rlds',\n 'austin_sailor_dataset_converted_externally_to_rlds',\n 'austin_sirius_dataset_converted_externally_to_rlds',\n 'bair_robot_pushing_small',\n 'bc_z',\n 'bccd',\n 'beans',\n 'bee_dataset',\n 'beir',\n 'berkeley_autolab_ur5',\n 'berkeley_cable_routing',\n 'berkeley_fanuc_manipulation',\n 'berkeley_gnm_cory_hall',\n 'berkeley_gnm_recon',\n 'berkeley_gnm_sac_son',\n 'berkeley_mvp_converted_externally_to_rlds',\n 'berkeley_rpt_converted_externally_to_rlds',\n 'big_patent',\n 'bigearthnet',\n 'billsum',\n 'binarized_mnist',\n 'binary_alpha_digits',\n 'ble_wind_field',\n 'blimp',\n 'booksum',\n 'bool_q',\n 'bot_adversarial_dialogue',\n 'bridge',\n 'bucc',\n 'c4',\n 'c4_wsrs',\n 'caltech101',\n 'caltech_birds2010',\n 'caltech_birds2011',\n 'cardiotox',\n 'cars196',\n 'cassava',\n 'cats_vs_dogs',\n 'celeb_a',\n 'celeb_a_hq',\n 'cfq',\n 'cherry_blossoms',\n 'chexpert',\n 'cifar10',\n 'cifar100',\n 'cifar100_n',\n 'cifar10_1',\n 'cifar10_corrupted',\n 'cifar10_h',\n 'cifar10_n',\n 'citrus_leaves',\n 'cityscapes',\n 'civil_comments',\n 'clevr',\n 'clic',\n 'clinc_oos',\n 'cmaterdb',\n 'cmu_franka_exploration_dataset_converted_externally_to_rlds',\n 'cmu_play_fusion',\n 'cmu_stretch',\n 'cnn_dailymail',\n 'coco',\n 'coco_captions',\n 'coil100',\n 'colorectal_histology',\n 'colorectal_histology_large',\n 'columbia_cairlab_pusht_real',\n 'common_voice',\n 'conll2002',\n 'conll2003',\n 'controlled_noisy_web_labels',\n 'coqa',\n 'corr2cause',\n 'cos_e',\n 'cosmos_qa',\n 'covid19',\n 'covid19sum',\n 'crema_d',\n 'criteo',\n 'cs_restaurants',\n 'curated_breast_imaging_ddsm',\n 'cycle_gan',\n 'd4rl_adroit_door',\n 'd4rl_adroit_hammer',\n 'd4rl_adroit_pen',\n 'd4rl_adroit_relocate',\n 'd4rl_antmaze',\n 'd4rl_mujoco_ant',\n 'd4rl_mujoco_halfcheetah',\n 'd4rl_mujoco_hopper',\n 'd4rl_mujoco_walker2d',\n 'dart',\n 'databricks_dolly',\n 'davis',\n 'deep1b',\n 'deep_weeds',\n 'definite_pronoun_resolution',\n 'dementiabank',\n 'diabetic_retinopathy_detection',\n 'diamonds',\n 'div2k',\n 'dlr_edan_shared_control_converted_externally_to_rlds',\n 'dlr_sara_grid_clamp_converted_externally_to_rlds',\n 'dlr_sara_pour_converted_externally_to_rlds',\n 'dmlab',\n 'doc_nli',\n 'dolphin_number_word',\n 'domainnet',\n 'downsampled_imagenet',\n 'drop',\n 'dsprites',\n 'dtd',\n 'duke_ultrasound',\n 'e2e_cleaned',\n 'efron_morris75',\n 'emnist',\n 'eraser_multi_rc',\n 'esnli',\n 'eth_agent_affordances',\n 'eurosat',\n 'fashion_mnist',\n 'flic',\n 'flores',\n 'food101',\n 'forest_fires',\n 'fractal20220817_data',\n 'fuss',\n 'gap',\n 'geirhos_conflict_stimuli',\n 'gem',\n 'genomics_ood',\n 'german_credit_numeric',\n 'gigaword',\n 'glove100_angular',\n 'glue',\n 'goemotions',\n 'gov_report',\n 'gpt3',\n 'gref',\n 'groove',\n 'grounded_scan',\n 'gsm8k',\n 'gtzan',\n 'gtzan_music_speech',\n 'hellaswag',\n 'higgs',\n 'hillstrom',\n 'horses_or_humans',\n 'howell',\n 'i_naturalist2017',\n 'i_naturalist2018',\n 'i_naturalist2021',\n 'iamlab_cmu_pickup_insert_converted_externally_to_rlds',\n 'imagenet2012',\n 'imagenet2012_corrupted',\n 'imagenet2012_fewshot',\n 'imagenet2012_multilabel',\n 'imagenet2012_real',\n 'imagenet2012_subset',\n 'imagenet_a',\n 'imagenet_lt',\n 'imagenet_pi',\n 'imagenet_r',\n 'imagenet_resized',\n 'imagenet_sketch',\n 'imagenet_v2',\n 'imagenette',\n 'imagewang',\n 'imdb_reviews',\n 'imperialcollege_sawyer_wrist_cam',\n 'irc_disentanglement',\n 'iris',\n 'istella',\n 'jaco_play',\n 'kaist_nonprehensile_converted_externally_to_rlds',\n 'kddcup99',\n 'kitti',\n 'kmnist',\n 'kuka',\n 'laion400m',\n 'lambada',\n 'lfw',\n 'librispeech',\n 'librispeech_lm',\n 'libritts',\n 'ljspeech',\n 'lm1b',\n 'locomotion',\n 'lost_and_found',\n 'lsun',\n 'lvis',\n 'malaria',\n 'maniskill_dataset_converted_externally_to_rlds',\n 'math_dataset',\n 'math_qa',\n 'mctaco',\n 'media_sum',\n 'mlqa',\n 'mnist',\n 'mnist_corrupted',\n 'movie_lens',\n 'movie_rationales',\n 'movielens',\n 'moving_mnist',\n 'mrqa',\n 'mslr_web',\n 'mt_opt',\n 'mtnt',\n 'multi_news',\n 'multi_nli',\n 'multi_nli_mismatch',\n 'natural_instructions',\n 'natural_questions',\n 'natural_questions_open',\n 'newsroom',\n 'nsynth',\n 'nyu_depth_v2',\n 'nyu_door_opening_surprising_effectiveness',\n 'nyu_franka_play_dataset_converted_externally_to_rlds',\n 'nyu_rot_dataset_converted_externally_to_rlds',\n 'ogbg_molpcba',\n 'omniglot',\n 'open_images_challenge2019_detection',\n 'open_images_v4',\n 'openbookqa',\n 'opinion_abstracts',\n 'opinosis',\n 'opus',\n 'oxford_flowers102',\n 'oxford_iiit_pet',\n 'para_crawl',\n 'pass',\n 'patch_camelyon',\n 'paws_wiki',\n 'paws_x_wiki',\n 'penguins',\n 'pet_finder',\n 'pg19',\n 'piqa',\n 'places365_small',\n 'placesfull',\n 'plant_leaves',\n 'plant_village',\n 'plantae_k',\n 'protein_net',\n 'q_re_cc',\n 'qa4mre',\n 'qasc',\n 'quac',\n 'quality',\n 'quickdraw_bitmap',\n 'race',\n 'radon',\n 'real_toxicity_prompts',\n 'reddit',\n 'reddit_disentanglement',\n 'reddit_tifu',\n 'ref_coco',\n 'resisc45',\n 'rlu_atari',\n 'rlu_atari_checkpoints',\n 'rlu_atari_checkpoints_ordered',\n 'rlu_control_suite',\n 'rlu_dmlab_explore_object_rewards_few',\n 'rlu_dmlab_explore_object_rewards_many',\n 'rlu_dmlab_rooms_select_nonmatching_object',\n 'rlu_dmlab_rooms_watermaze',\n 'rlu_dmlab_seekavoid_arena01',\n 'rlu_locomotion',\n 'rlu_rwrl',\n 'robomimic_mg',\n 'robomimic_mh',\n 'robomimic_ph',\n 'robonet',\n 'robosuite_panda_pick_place_can',\n 'roboturk',\n 'rock_paper_scissors',\n 'rock_you',\n 's3o4d',\n 'salient_span_wikipedia',\n 'samsum',\n 'savee',\n 'scan',\n 'scene_parse150',\n 'schema_guided_dialogue',\n 'sci_tail',\n 'scicite',\n 'scientific_papers',\n 'scrolls',\n 'segment_anything',\n 'sentiment140',\n 'shapes3d',\n 'sift1m',\n 'simpte',\n 'siscore',\n 'smallnorb',\n 'smartwatch_gestures',\n 'snli',\n 'so2sat',\n 'speech_commands',\n 'spoken_digit',\n 'squad',\n 'squad_question_generation',\n 'stanford_dogs',\n 'stanford_hydra_dataset_converted_externally_to_rlds',\n 'stanford_kuka_multimodal_dataset_converted_externally_to_rlds',\n 'stanford_mask_vit_converted_externally_to_rlds',\n 'stanford_online_products',\n 'stanford_robocook_converted_externally_to_rlds',\n 'star_cfq',\n 'starcraft_video',\n 'stl10',\n 'story_cloze',\n 'summscreen',\n 'sun397',\n 'super_glue',\n 'svhn_cropped',\n 'symmetric_solids',\n 'taco_play',\n 'tao',\n 'tatoeba',\n 'ted_hrlr_translate',\n 'ted_multi_translate',\n 'tedlium',\n 'tf_flowers',\n 'the300w_lp',\n 'tiny_shakespeare',\n 'titanic',\n 'tokyo_u_lsmo_converted_externally_to_rlds',\n 'toto',\n 'trec',\n 'trivia_qa',\n 'tydi_qa',\n 'uc_merced',\n 'ucf101',\n 'ucsd_kitchen_dataset_converted_externally_to_rlds',\n 'ucsd_pick_and_place_dataset_converted_externally_to_rlds',\n 'uiuc_d3field',\n 'unified_qa',\n 'universal_dependencies',\n 'unnatural_instructions',\n 'usc_cloth_sim_converted_externally_to_rlds',\n 'user_libri_audio',\n 'user_libri_text',\n 'utaustin_mutex',\n 'utokyo_pr2_opening_fridge_converted_externally_to_rlds',\n 'utokyo_pr2_tabletop_manipulation_converted_externally_to_rlds',\n 'utokyo_saytap_converted_externally_to_rlds',\n 'utokyo_xarm_bimanual_converted_externally_to_rlds',\n 'utokyo_xarm_pick_and_place_converted_externally_to_rlds',\n 'vctk',\n 'viola',\n 'visual_domain_decathlon',\n 'voc',\n 'voxceleb',\n 'voxforge',\n 'waymo_open_dataset',\n 'web_graph',\n 'web_nlg',\n 'web_questions',\n 'webvid',\n 'wider_face',\n 'wiki40b',\n 'wiki_auto',\n 'wiki_bio',\n 'wiki_dialog',\n 'wiki_table_questions',\n 'wiki_table_text',\n 'wikiann',\n 'wikihow',\n 'wikipedia',\n 'wikipedia_toxicity_subtypes',\n 'wine_quality',\n 'winogrande',\n 'wit',\n 'wit_kaggle',\n 'wmt13_translate',\n 'wmt14_translate',\n 'wmt15_translate',\n 'wmt16_translate',\n 'wmt17_translate',\n 'wmt18_translate',\n 'wmt19_translate',\n 'wmt_t2t_translate',\n 'wmt_translate',\n 'wordnet',\n 'wsc273',\n 'xnli',\n 'xquad',\n 'xsum',\n 'xtreme_pawsx',\n 'xtreme_pos',\n 'xtreme_s',\n 'xtreme_xnli',\n 'yahoo_ltrc',\n 'yelp_polarity_reviews',\n 'yes_no',\n 'youtube_vis',\n 'huggingface:acronym_identification',\n 'huggingface:ade_corpus_v2',\n 'huggingface:adv_glue',\n 'huggingface:adversarial_qa',\n 'huggingface:aeslc',\n 'huggingface:afrikaans_ner_corpus',\n 'huggingface:ag_news',\n 'huggingface:ai2_arc',\n 'huggingface:air_dialogue',\n 'huggingface:ajgt_twitter_ar',\n 'huggingface:allegro_reviews',\n 'huggingface:allocine',\n 'huggingface:alt',\n 'huggingface:amazon_polarity',\n 'huggingface:amazon_reviews_multi',\n 'huggingface:amazon_us_reviews',\n 'huggingface:ambig_qa',\n 'huggingface:americas_nli',\n 'huggingface:ami',\n 'huggingface:amttl',\n 'huggingface:anli',\n 'huggingface:app_reviews',\n 'huggingface:aqua_rat',\n 'huggingface:aquamuse',\n 'huggingface:ar_cov19',\n 'huggingface:ar_res_reviews',\n 'huggingface:ar_sarcasm',\n 'huggingface:arabic_billion_words',\n 'huggingface:arabic_pos_dialect',\n 'huggingface:arabic_speech_corpus',\n 'huggingface:arcd',\n 'huggingface:arsentd_lev',\n 'huggingface:art',\n 'huggingface:arxiv_dataset',\n 'huggingface:ascent_kb',\n 'huggingface:aslg_pc12',\n 'huggingface:asnq',\n 'huggingface:asset',\n 'huggingface:assin',\n 'huggingface:assin2',\n 'huggingface:atomic',\n 'huggingface:autshumato',\n 'huggingface:babi_qa',\n 'huggingface:banking77',\n 'huggingface:bbaw_egyptian',\n 'huggingface:bbc_hindi_nli',\n 'huggingface:bc2gm_corpus',\n 'huggingface:beans',\n 'huggingface:best2009',\n 'huggingface:bianet',\n 'huggingface:bible_para',\n 'huggingface:big_patent',\n 'huggingface:bigbench',\n 'huggingface:billsum',\n 'huggingface:bing_coronavirus_query_set',\n 'huggingface:biomrc',\n 'huggingface:biosses',\n 'huggingface:biwi_kinect_head_pose',\n 'huggingface:blbooks',\n 'huggingface:blbooksgenre',\n 'huggingface:blended_skill_talk',\n 'huggingface:blimp',\n 'huggingface:blog_authorship_corpus',\n 'huggingface:bn_hate_speech',\n 'huggingface:bnl_newspapers',\n 'huggingface:bookcorpus',\n 'huggingface:bookcorpusopen',\n 'huggingface:boolq',\n 'huggingface:bprec',\n 'huggingface:break_data',\n 'huggingface:brwac',\n 'huggingface:bsd_ja_en',\n 'huggingface:bswac',\n 'huggingface:c3',\n 'huggingface:c4',\n 'huggingface:cail2018',\n 'huggingface:caner',\n 'huggingface:capes',\n 'huggingface:casino',\n 'huggingface:catalonia_independence',\n 'huggingface:cats_vs_dogs',\n 'huggingface:cawac',\n 'huggingface:cbt',\n 'huggingface:cc100',\n 'huggingface:cc_news',\n 'huggingface:ccaligned_multilingual',\n 'huggingface:cdsc',\n 'huggingface:cdt',\n 'huggingface:cedr',\n 'huggingface:cfq',\n 'huggingface:chr_en',\n 'huggingface:cifar10',\n 'huggingface:cifar100',\n 'huggingface:circa',\n 'huggingface:civil_comments',\n 'huggingface:clickbait_news_bg',\n 'huggingface:climate_fever',\n 'huggingface:clinc_oos',\n 'huggingface:clue',\n 'huggingface:cmrc2018',\n 'huggingface:cmu_hinglish_dog',\n 'huggingface:cnn_dailymail',\n 'huggingface:coached_conv_pref',\n 'huggingface:coarse_discourse',\n 'huggingface:codah',\n 'huggingface:code_search_net',\n 'huggingface:code_x_glue_cc_clone_detection_big_clone_bench',\n 'huggingface:code_x_glue_cc_clone_detection_poj104',\n 'huggingface:code_x_glue_cc_cloze_testing_all',\n 'huggingface:code_x_glue_cc_cloze_testing_maxmin',\n 'huggingface:code_x_glue_cc_code_completion_line',\n 'huggingface:code_x_glue_cc_code_completion_token',\n 'huggingface:code_x_glue_cc_code_refinement',\n 'huggingface:code_x_glue_cc_code_to_code_trans',\n 'huggingface:code_x_glue_cc_defect_detection',\n 'huggingface:code_x_glue_ct_code_to_text',\n 'huggingface:code_x_glue_tc_nl_code_search_adv',\n 'huggingface:code_x_glue_tc_text_to_code',\n 'huggingface:code_x_glue_tt_text_to_text',\n 'huggingface:com_qa',\n 'huggingface:common_gen',\n 'huggingface:common_language',\n 'huggingface:common_voice',\n 'huggingface:commonsense_qa',\n 'huggingface:competition_math',\n 'huggingface:compguesswhat',\n 'huggingface:conceptnet5',\n 'huggingface:conceptual_12m',\n 'huggingface:conceptual_captions',\n 'huggingface:conll2000',\n 'huggingface:conll2002',\n 'huggingface:conll2003',\n 'huggingface:conll2012_ontonotesv5',\n 'huggingface:conllpp',\n 'huggingface:consumer-finance-complaints',\n 'huggingface:conv_ai',\n 'huggingface:conv_ai_2',\n 'huggingface:conv_ai_3',\n 'huggingface:conv_questions',\n 'huggingface:coqa',\n 'huggingface:cord19',\n 'huggingface:cornell_movie_dialog',\n 'huggingface:cos_e',\n 'huggingface:cosmos_qa',\n 'huggingface:counter',\n 'huggingface:covid_qa_castorini',\n 'huggingface:covid_qa_deepset',\n 'huggingface:covid_qa_ucsd',\n 'huggingface:covid_tweets_japanese',\n 'huggingface:covost2',\n 'huggingface:cppe-5',\n 'huggingface:craigslist_bargains',\n 'huggingface:crawl_domain',\n 'huggingface:crd3',\n 'huggingface:crime_and_punish',\n 'huggingface:crows_pairs',\n 'huggingface:cryptonite',\n 'huggingface:cs_restaurants',\n 'huggingface:cuad',\n 'huggingface:curiosity_dialogs',\n 'huggingface:daily_dialog',\n 'huggingface:dane',\n 'huggingface:danish_political_comments',\n 'huggingface:dart',\n 'huggingface:datacommons_factcheck',\n 'huggingface:dbpedia_14',\n 'huggingface:dbrd',\n 'huggingface:deal_or_no_dialog',\n 'huggingface:definite_pronoun_resolution',\n 'huggingface:dengue_filipino',\n 'huggingface:dialog_re',\n 'huggingface:diplomacy_detection',\n 'huggingface:disaster_response_messages',\n 'huggingface:discofuse',\n 'huggingface:discovery',\n 'huggingface:disfl_qa',\n 'huggingface:doc2dial',\n 'huggingface:docred',\n 'huggingface:doqa',\n 'huggingface:dream',\n 'huggingface:drop',\n 'huggingface:duorc',\n 'huggingface:dutch_social',\n 'huggingface:dyk',\n 'huggingface:e2e_nlg',\n 'huggingface:e2e_nlg_cleaned',\n 'huggingface:ecb',\n 'huggingface:ecthr_cases',\n 'huggingface:eduge',\n 'huggingface:ehealth_kd',\n 'huggingface:eitb_parcc',\n 'huggingface:electricity_load_diagrams',\n 'huggingface:eli5',\n 'huggingface:eli5_category',\n 'huggingface:elkarhizketak',\n 'huggingface:emea',\n 'huggingface:emo',\n 'huggingface:emotion',\n 'huggingface:emotone_ar',\n 'huggingface:empathetic_dialogues',\n 'huggingface:enriched_web_nlg',\n 'huggingface:enwik8',\n 'huggingface:eraser_multi_rc',\n 'huggingface:esnli',\n 'huggingface:eth_py150_open',\n 'huggingface:ethos',\n 'huggingface:ett',\n 'huggingface:eu_regulatory_ir',\n 'huggingface:eurlex',\n 'huggingface:euronews',\n 'huggingface:europa_eac_tm',\n 'huggingface:europa_ecdc_tm',\n 'huggingface:europarl_bilingual',\n 'huggingface:event2Mind',\n 'huggingface:evidence_infer_treatment',\n 'huggingface:exams',\n 'huggingface:factckbr',\n 'huggingface:fake_news_english',\n 'huggingface:fake_news_filipino',\n 'huggingface:farsi_news',\n 'huggingface:fashion_mnist',\n 'huggingface:fever',\n 'huggingface:few_rel',\n 'huggingface:financial_phrasebank',\n 'huggingface:finer',\n 'huggingface:flores',\n 'huggingface:flue',\n 'huggingface:food101',\n 'huggingface:fquad',\n 'huggingface:freebase_qa',\n 'huggingface:gap',\n 'huggingface:gem',\n 'huggingface:generated_reviews_enth',\n 'huggingface:generics_kb',\n 'huggingface:german_legal_entity_recognition',\n 'huggingface:germaner',\n 'huggingface:germeval_14',\n 'huggingface:giga_fren',\n 'huggingface:gigaword',\n 'huggingface:glucose',\n 'huggingface:glue',\n 'huggingface:gnad10',\n 'huggingface:go_emotions',\n 'huggingface:gooaq',\n 'huggingface:google_wellformed_query',\n 'huggingface:grail_qa',\n 'huggingface:great_code',\n 'huggingface:greek_legal_code',\n 'huggingface:gsm8k',\n 'huggingface:guardian_authorship',\n 'huggingface:gutenberg_time',\n 'huggingface:hans',\n 'huggingface:hansards',\n 'huggingface:hard',\n 'huggingface:harem',\n 'huggingface:has_part',\n 'huggingface:hate_offensive',\n 'huggingface:hate_speech18',\n 'huggingface:hate_speech_filipino',\n 'huggingface:hate_speech_offensive',\n 'huggingface:hate_speech_pl',\n 'huggingface:hate_speech_portuguese',\n 'huggingface:hatexplain',\n 'huggingface:hausa_voa_ner',\n 'huggingface:hausa_voa_topics',\n 'huggingface:hda_nli_hindi',\n 'huggingface:head_qa',\n 'huggingface:health_fact',\n 'huggingface:hebrew_projectbenyehuda',\n 'huggingface:hebrew_sentiment',\n 'huggingface:hebrew_this_world',\n 'huggingface:hellaswag',\n 'huggingface:hendrycks_test',\n 'huggingface:hind_encorp',\n 'huggingface:hindi_discourse',\n 'huggingface:hippocorpus',\n 'huggingface:hkcancor',\n 'huggingface:hlgd',\n 'huggingface:hope_edi',\n 'huggingface:hotpot_qa',\n 'huggingface:hover',\n 'huggingface:hrenwac_para',\n 'huggingface:hrwac',\n 'huggingface:humicroedit',\n 'huggingface:hybrid_qa',\n 'huggingface:hyperpartisan_news_detection',\n 'huggingface:iapp_wiki_qa_squad',\n 'huggingface:id_clickbait',\n 'huggingface:id_liputan6',\n 'huggingface:id_nergrit_corpus',\n 'huggingface:id_newspapers_2018',\n 'huggingface:id_panl_bppt',\n 'huggingface:id_puisi',\n 'huggingface:igbo_english_machine_translation',\n 'huggingface:igbo_monolingual',\n 'huggingface:igbo_ner',\n 'huggingface:ilist',\n 'huggingface:imagenet-1k',\n 'huggingface:imagenet_sketch',\n 'huggingface:imdb',\n 'huggingface:imdb_urdu_reviews',\n 'huggingface:imppres',\n 'huggingface:indic_glue',\n 'huggingface:indonli',\n 'huggingface:indonlu',\n 'huggingface:inquisitive_qg',\n 'huggingface:interpress_news_category_tr',\n 'huggingface:interpress_news_category_tr_lite',\n 'huggingface:irc_disentangle',\n 'huggingface:isixhosa_ner_corpus',\n 'huggingface:isizulu_ner_corpus',\n 'huggingface:iwslt2017',\n 'huggingface:jeopardy',\n 'huggingface:jfleg',\n 'huggingface:jigsaw_toxicity_pred',\n 'huggingface:jigsaw_unintended_bias',\n 'huggingface:jnlpba',\n 'huggingface:journalists_questions',\n 'huggingface:kan_hope',\n 'huggingface:kannada_news',\n 'huggingface:kd_conv',\n 'huggingface:kde4',\n 'huggingface:kelm',\n 'huggingface:kilt_tasks',\n 'huggingface:kilt_wikipedia',\n 'huggingface:kinnews_kirnews',\n 'huggingface:klue',\n 'huggingface:kor_3i4k',\n 'huggingface:kor_hate',\n 'huggingface:kor_ner',\n 'huggingface:kor_nli',\n 'huggingface:kor_nlu',\n 'huggingface:kor_qpair',\n 'huggingface:kor_sae',\n 'huggingface:kor_sarcasm',\n 'huggingface:labr',\n 'huggingface:lama',\n 'huggingface:lambada',\n 'huggingface:large_spanish_corpus',\n 'huggingface:laroseda',\n 'huggingface:lc_quad',\n 'huggingface:lccc',\n 'huggingface:lener_br',\n 'huggingface:lex_glue',\n 'huggingface:liar',\n 'huggingface:librispeech_asr',\n 'huggingface:librispeech_lm',\n 'huggingface:limit',\n 'huggingface:lince',\n 'huggingface:linnaeus',\n 'huggingface:liveqa',\n 'huggingface:lj_speech',\n 'huggingface:lm1b',\n 'huggingface:lst20',\n 'huggingface:m_lama',\n 'huggingface:mac_morpho',\n 'huggingface:makhzan',\n 'huggingface:masakhaner',\n 'huggingface:math_dataset',\n 'huggingface:math_qa',\n 'huggingface:matinf',\n 'huggingface:mbpp',\n 'huggingface:mc4',\n 'huggingface:mc_taco',\n 'huggingface:md_gender_bias',\n 'huggingface:mdd',\n 'huggingface:med_hop',\n 'huggingface:medal',\n 'huggingface:medical_dialog',\n 'huggingface:medical_questions_pairs',\n 'huggingface:medmcqa',\n 'huggingface:menyo20k_mt',\n 'huggingface:meta_woz',\n 'huggingface:metashift',\n 'huggingface:metooma',\n 'huggingface:metrec',\n 'huggingface:miam',\n 'huggingface:mkb',\n 'huggingface:mkqa',\n 'huggingface:mlqa',\n 'huggingface:mlsum',\n 'huggingface:mnist',\n 'huggingface:mocha',\n 'huggingface:monash_tsf',\n 'huggingface:moroco',\n 'huggingface:movie_rationales',\n 'huggingface:mrqa',\n 'huggingface:ms_marco',\n 'huggingface:ms_terms',\n 'huggingface:msr_genomics_kbcomp',\n 'huggingface:msr_sqa',\n 'huggingface:msr_text_compression',\n 'huggingface:msr_zhen_translation_parity',\n 'huggingface:msra_ner',\n 'huggingface:mt_eng_vietnamese',\n 'huggingface:muchocine',\n 'huggingface:multi_booked',\n 'huggingface:multi_eurlex',\n 'huggingface:multi_news',\n 'huggingface:multi_nli',\n 'huggingface:multi_nli_mismatch',\n 'huggingface:multi_para_crawl',\n 'huggingface:multi_re_qa',\n 'huggingface:multi_woz_v22',\n 'huggingface:multi_x_science_sum',\n 'huggingface:multidoc2dial',\n 'huggingface:multilingual_librispeech',\n 'huggingface:mutual_friends',\n 'huggingface:mwsc',\n 'huggingface:myanmar_news',\n 'huggingface:narrativeqa',\n 'huggingface:narrativeqa_manual',\n 'huggingface:natural_questions',\n 'huggingface:ncbi_disease',\n 'huggingface:nchlt',\n 'huggingface:ncslgr',\n 'huggingface:nell',\n 'huggingface:neural_code_search',\n 'huggingface:news_commentary',\n 'huggingface:newsgroup',\n 'huggingface:newsph',\n 'huggingface:newsph_nli',\n 'huggingface:newspop',\n 'huggingface:newsqa',\n 'huggingface:newsroom',\n 'huggingface:nkjp-ner',\n 'huggingface:nli_tr',\n 'huggingface:nlu_evaluation_data',\n 'huggingface:norec',\n 'huggingface:norne',\n 'huggingface:norwegian_ner',\n 'huggingface:nq_open',\n 'huggingface:nsmc',\n 'huggingface:numer_sense',\n 'huggingface:numeric_fused_head',\n 'huggingface:oclar',\n 'huggingface:offcombr',\n 'huggingface:offenseval2020_tr',\n 'huggingface:offenseval_dravidian',\n 'huggingface:ofis_publik',\n 'huggingface:ohsumed',\n 'huggingface:ollie',\n 'huggingface:omp',\n 'huggingface:onestop_english',\n 'huggingface:onestop_qa',\n 'huggingface:open_subtitles',\n 'huggingface:openai_humaneval',\n 'huggingface:openbookqa',\n 'huggingface:openslr',\n 'huggingface:openwebtext',\n 'huggingface:opinosis',\n 'huggingface:opus100',\n 'huggingface:opus_books',\n 'huggingface:opus_dgt',\n 'huggingface:opus_dogc',\n 'huggingface:opus_elhuyar',\n 'huggingface:opus_euconst',\n 'huggingface:opus_finlex',\n 'huggingface:opus_fiskmo',\n 'huggingface:opus_gnome',\n 'huggingface:opus_infopankki',\n 'huggingface:opus_memat',\n 'huggingface:opus_montenegrinsubs',\n 'huggingface:opus_openoffice',\n 'huggingface:opus_paracrawl',\n 'huggingface:opus_rf',\n 'huggingface:opus_tedtalks',\n 'huggingface:opus_ubuntu',\n 'huggingface:opus_wikipedia',\n 'huggingface:opus_xhosanavy',\n 'huggingface:orange_sum',\n 'huggingface:oscar',\n 'huggingface:para_crawl',\n 'huggingface:para_pat',\n 'huggingface:parsinlu_reading_comprehension',\n 'huggingface:pass',\n 'huggingface:paws',\n 'huggingface:paws-x',\n 'huggingface:pec',\n 'huggingface:peer_read',\n 'huggingface:peoples_daily_ner',\n 'huggingface:per_sent',\n 'huggingface:persian_ner',\n 'huggingface:pg19',\n 'huggingface:php',\n 'huggingface:piaf',\n 'huggingface:pib',\n 'huggingface:piqa',\n 'huggingface:pn_summary',\n 'huggingface:poem_sentiment',\n 'huggingface:polemo2',\n 'huggingface:poleval2019_cyberbullying',\n 'huggingface:poleval2019_mt',\n 'huggingface:polsum',\n 'huggingface:polyglot_ner',\n 'huggingface:prachathai67k',\n 'huggingface:pragmeval',\n 'huggingface:proto_qa',\n 'huggingface:psc',\n 'huggingface:ptb_text_only',\n 'huggingface:pubmed',\n 'huggingface:pubmed_qa',\n 'huggingface:py_ast',\n 'huggingface:qa4mre',\n 'huggingface:qa_srl',\n 'huggingface:qa_zre',\n 'huggingface:qangaroo',\n 'huggingface:qanta',\n 'huggingface:qasc',\n 'huggingface:qasper',\n 'huggingface:qed',\n 'huggingface:qed_amara',\n 'huggingface:quac',\n 'huggingface:quail',\n 'huggingface:quarel',\n 'huggingface:quartz',\n 'huggingface:quickdraw',\n 'huggingface:quora',\n 'huggingface:quoref',\n 'huggingface:race',\n 'huggingface:re_dial',\n 'huggingface:reasoning_bg',\n 'huggingface:recipe_nlg',\n 'huggingface:reclor',\n 'huggingface:red_caps',\n 'huggingface:reddit',\n 'huggingface:reddit_tifu',\n 'huggingface:refresd',\n 'huggingface:reuters21578',\n 'huggingface:riddle_sense',\n 'huggingface:ro_sent',\n 'huggingface:ro_sts',\n 'huggingface:ro_sts_parallel',\n 'huggingface:roman_urdu',\n 'huggingface:roman_urdu_hate_speech',\n 'huggingface:ronec',\n 'huggingface:ropes',\n 'huggingface:rotten_tomatoes',\n 'huggingface:russian_super_glue',\n 'huggingface:rvl_cdip',\n 'huggingface:s2orc',\n 'huggingface:samsum',\n 'huggingface:sanskrit_classic',\n 'huggingface:saudinewsnet',\n 'huggingface:sberquad',\n 'huggingface:sbu_captions',\n 'huggingface:scan',\n 'huggingface:scb_mt_enth_2020',\n 'huggingface:scene_parse_150',\n 'huggingface:schema_guided_dstc8',\n 'huggingface:scicite',\n 'huggingface:scielo',\n 'huggingface:scientific_papers',\n 'huggingface:scifact',\n 'huggingface:sciq',\n 'huggingface:scitail',\n 'huggingface:scitldr',\n 'huggingface:search_qa',\n 'huggingface:sede',\n 'huggingface:selqa',\n 'huggingface:sem_eval_2010_task_8',\n 'huggingface:sem_eval_2014_task_1',\n 'huggingface:sem_eval_2018_task_1',\n 'huggingface:sem_eval_2020_task_11',\n 'huggingface:sent_comp',\n 'huggingface:senti_lex',\n 'huggingface:senti_ws',\n 'huggingface:sentiment140',\n 'huggingface:sepedi_ner',\n 'huggingface:sesotho_ner_corpus',\n 'huggingface:setimes',\n 'huggingface:setswana_ner_corpus',\n 'huggingface:sharc',\n 'huggingface:sharc_modified',\n 'huggingface:sick',\n 'huggingface:silicone',\n 'huggingface:simple_questions_v2',\n 'huggingface:siswati_ner_corpus',\n 'huggingface:smartdata',\n 'huggingface:sms_spam',\n 'huggingface:snips_built_in_intents',\n 'huggingface:snli',\n 'huggingface:snow_simplified_japanese_corpus',\n 'huggingface:so_stacksample',\n 'huggingface:social_bias_frames',\n 'huggingface:social_i_qa',\n 'huggingface:sofc_materials_articles',\n ...]"
     },
     "execution_count": 167,
     "metadata": {},
     "output_type": "execute_result"
    }
   ],
   "source": [
    "\"\"\"https://www.tensorflow.org/datasets/catalog/overview\"\"\"\n",
    "\n",
    "tfds.list_builders()"
   ],
   "metadata": {
    "collapsed": false,
    "ExecuteTime": {
     "end_time": "2024-02-06T21:33:00.401886339Z",
     "start_time": "2024-02-06T21:32:58.438487020Z"
    }
   },
   "id": "a9ba6a51eb86070c",
   "execution_count": 167
  },
  {
   "cell_type": "code",
   "outputs": [
    {
     "name": "stdout",
     "output_type": "stream",
     "text": [
      "x_train_c.shape =(60000, 28, 28, 1) | y_train_c.shape = (60000,)\n",
      "x_test_c.shape =(10000, 28, 28, 1) | y_test_c.shape = (10000,)\n"
     ]
    }
   ],
   "source": [
    "(x_train_c, y_train_c), (x_test_c, y_test_c) = tfds.as_numpy(\n",
    "    tfds.load(\n",
    "        \"mnist_corrupted\",\n",
    "        split=[\"train\", \"test\"],\n",
    "        batch_size=-1,\n",
    "        shuffle_files=True,\n",
    "        as_supervised=True,\n",
    "    )\n",
    ")\n",
    "\n",
    "print(f\"{x_train_c.shape =} | {y_train_c.shape = }\")\n",
    "print(f\"{x_test_c.shape =} | {y_test_c.shape = }\")"
   ],
   "metadata": {
    "collapsed": false,
    "ExecuteTime": {
     "end_time": "2024-02-06T21:33:01.016770190Z",
     "start_time": "2024-02-06T21:33:00.395358332Z"
    }
   },
   "id": "b993fe804355c0f2",
   "execution_count": 168
  },
  {
   "cell_type": "code",
   "outputs": [
    {
     "data": {
      "text/plain": "(60000, 28, 28)"
     },
     "execution_count": 169,
     "metadata": {},
     "output_type": "execute_result"
    }
   ],
   "source": [
    "x_train_c[:, :, :, 0].shape"
   ],
   "metadata": {
    "collapsed": false,
    "ExecuteTime": {
     "end_time": "2024-02-06T21:33:01.018688732Z",
     "start_time": "2024-02-06T21:33:01.011780462Z"
    }
   },
   "id": "d03a8ddc298c13b6",
   "execution_count": 169
  },
  {
   "cell_type": "code",
   "outputs": [],
   "source": [
    "x_train_c = x_train_c[:, :, :, 0]\n",
    "x_test_c = x_test_c[:, :, :, 0]"
   ],
   "metadata": {
    "collapsed": false,
    "ExecuteTime": {
     "end_time": "2024-02-06T21:33:01.034944033Z",
     "start_time": "2024-02-06T21:33:01.015874188Z"
    }
   },
   "id": "c9b1c217434e65f",
   "execution_count": 170
  },
  {
   "cell_type": "code",
   "outputs": [
    {
     "name": "stdout",
     "output_type": "stream",
     "text": [
      "x_train_c.shape =(60000, 28, 28) | y_train_c.shape = (60000,)\n",
      "x_test_c.shape =(10000, 28, 28) | y_test_c.shape = (10000,)\n"
     ]
    }
   ],
   "source": [
    "x_train_c, x_test_c = x_train_c / 255.0, x_test_c / 255.0\n",
    "\n",
    "print(f\"{x_train_c.shape =} | {y_train_c.shape = }\")\n",
    "print(f\"{x_test_c.shape =} | {y_test_c.shape = }\")"
   ],
   "metadata": {
    "collapsed": false,
    "ExecuteTime": {
     "end_time": "2024-02-06T21:33:01.099925060Z",
     "start_time": "2024-02-06T21:33:01.018959872Z"
    }
   },
   "id": "ecc3444a00d6c5fc",
   "execution_count": 171
  },
  {
   "cell_type": "code",
   "outputs": [
    {
     "data": {
      "text/plain": "<Figure size 1000x1000 with 26 Axes>",
      "image/png": "[encoded data removed]"
     },
     "metadata": {},
     "output_type": "display_data"
    }
   ],
   "source": [
    "plt.figure(figsize=(10, 10))\n",
    "plt.title(\"MNIST corrupted\")\n",
    "for i in range(25):\n",
    "    plt.subplot(5, 5, i + 1)\n",
    "    plt.xticks([])\n",
    "    plt.yticks([])\n",
    "    plt.grid(False)\n",
    "    plt.imshow(x_train_c[i], cmap=plt.cm.binary)\n",
    "    plt.xlabel(y_train_c[i])\n",
    "plt.show()"
   ],
   "metadata": {
    "collapsed": false,
    "ExecuteTime": {
     "end_time": "2024-02-06T21:33:01.555495599Z",
     "start_time": "2024-02-06T21:33:01.097529462Z"
    }
   },
   "id": "c315398fb28789be",
   "execution_count": 172
  },
  {
   "cell_type": "code",
   "outputs": [],
   "source": [],
   "metadata": {
    "collapsed": false,
    "ExecuteTime": {
     "end_time": "2024-02-06T21:33:01.557060898Z",
     "start_time": "2024-02-06T21:33:01.552882813Z"
    }
   },
   "id": "beace890aaf68361",
   "execution_count": 172
  },
  {
   "cell_type": "code",
   "outputs": [],
   "source": [
    "\"\"\"Build a tf.keras.Sequential model:\"\"\"\n",
    "\n",
    "model = tf.keras.models.Sequential(\n",
    "    [\n",
    "        tf.keras.layers.Flatten(input_shape=(28, 28)),\n",
    "        tf.keras.layers.Dense(128, activation=\"relu\"),\n",
    "        tf.keras.layers.Dropout(0.2),\n",
    "        tf.keras.layers.Dense(10),\n",
    "    ]\n",
    ")"
   ],
   "metadata": {
    "collapsed": false,
    "ExecuteTime": {
     "end_time": "2024-02-06T21:36:58.218037815Z",
     "start_time": "2024-02-06T21:36:58.171431385Z"
    }
   },
   "id": "44ffbab2314dbdb6",
   "execution_count": 210
  },
  {
   "cell_type": "code",
   "outputs": [
    {
     "data": {
      "text/plain": "array([[-0.6411292 , -0.3442846 ,  0.35415292,  0.09033062, -0.3836475 ,\n        -0.6041279 , -0.3056119 ,  0.19550619, -0.9022989 , -0.49263835]],\n      dtype=float32)"
     },
     "execution_count": 211,
     "metadata": {},
     "output_type": "execute_result"
    }
   ],
   "source": [
    "\"\"\"For each example, the model returns a vector of logits or log-odds scores, one for each class.\"\"\"\n",
    "\n",
    "predictions = model(x_train[:1]).numpy()\n",
    "predictions"
   ],
   "metadata": {
    "collapsed": false,
    "ExecuteTime": {
     "end_time": "2024-02-06T21:36:59.598299764Z",
     "start_time": "2024-02-06T21:36:59.585169236Z"
    }
   },
   "id": "adc6ea7f4260212e",
   "execution_count": 211
  },
  {
   "cell_type": "code",
   "outputs": [
    {
     "data": {
      "text/plain": "array([[0.06623372, 0.0891245 , 0.1791945 , 0.13764109, 0.08568445,\n        0.06873035, 0.0926387 , 0.15290627, 0.05100991, 0.07683656]],\n      dtype=float32)"
     },
     "execution_count": 212,
     "metadata": {},
     "output_type": "execute_result"
    }
   ],
   "source": [
    "\"\"\"The tf.nn.softmax function converts these logits to probabilities for each class:\"\"\"\n",
    "\n",
    "tf.nn.softmax(predictions).numpy()"
   ],
   "metadata": {
    "collapsed": false,
    "ExecuteTime": {
     "end_time": "2024-02-06T21:37:00.494764306Z",
     "start_time": "2024-02-06T21:37:00.453656761Z"
    }
   },
   "id": "a2ee7ca9de8ce23f",
   "execution_count": 212
  },
  {
   "cell_type": "code",
   "outputs": [],
   "source": [
    "\"\"\"Define a loss function for training\"\"\"\n",
    "\n",
    "loss_fn = tf.keras.losses.SparseCategoricalCrossentropy(from_logits=True)"
   ],
   "metadata": {
    "collapsed": false,
    "ExecuteTime": {
     "end_time": "2024-02-06T21:37:01.130816468Z",
     "start_time": "2024-02-06T21:37:01.122159361Z"
    }
   },
   "id": "feb8823e6ba02fac",
   "execution_count": 213
  },
  {
   "cell_type": "code",
   "outputs": [
    {
     "data": {
      "text/plain": "2.6775644"
     },
     "execution_count": 214,
     "metadata": {},
     "output_type": "execute_result"
    }
   ],
   "source": [
    "\"\"\"This untrained model gives probabilities close to random (1/10 for each class), so the initial loss should be close to -tf.math.log(1/10) ~= 2.3.\"\"\"\n",
    "\n",
    "loss_fn(y_train[:1], predictions).numpy()"
   ],
   "metadata": {
    "collapsed": false,
    "ExecuteTime": {
     "end_time": "2024-02-06T21:37:01.751057981Z",
     "start_time": "2024-02-06T21:37:01.708768196Z"
    }
   },
   "id": "fd911c430b067274",
   "execution_count": 214
  },
  {
   "cell_type": "code",
   "outputs": [],
   "source": [
    "\"\"\"configure and compile the model\"\"\"\n",
    "\n",
    "model.compile(\n",
    "    optimizer=\"adam\",\n",
    "    loss=loss_fn,\n",
    "    metrics=[\"accuracy\"],\n",
    ")"
   ],
   "metadata": {
    "collapsed": false,
    "ExecuteTime": {
     "end_time": "2024-02-06T21:37:02.716658273Z",
     "start_time": "2024-02-06T21:37:02.703900836Z"
    }
   },
   "id": "806a29eab9e26b78",
   "execution_count": 215
  },
  {
   "cell_type": "code",
   "outputs": [],
   "source": [],
   "metadata": {
    "collapsed": false,
    "ExecuteTime": {
     "end_time": "2024-02-06T21:37:04.564030029Z",
     "start_time": "2024-02-06T21:37:04.560445568Z"
    }
   },
   "id": "5354403b6004c43a",
   "execution_count": 215
  },
  {
   "cell_type": "code",
   "outputs": [
    {
     "name": "stdout",
     "output_type": "stream",
     "text": [
      "x_train_combo.shape = (120000, 28, 28) | y_train_combo.shape = (120000,)\n",
      "x_test_combo.shape = (20000, 28, 28) | y_test_combo.shape = (20000,)\n"
     ]
    }
   ],
   "source": [
    "\"\"\"combine 2 mnist datasets\"\"\"\n",
    "\n",
    "x_train_combo = np.concatenate([x_train, x_train_c])\n",
    "y_train_combo = np.concatenate([y_train, y_train_c])\n",
    "print(f\"{x_train_combo.shape = } | {y_train_combo.shape = }\")\n",
    "\n",
    "x_test_combo = np.concatenate([x_test, x_test_c])\n",
    "y_test_combo = np.concatenate([y_test, y_test_c])\n",
    "print(f\"{x_test_combo.shape = } | {y_test_combo.shape = }\")"
   ],
   "metadata": {
    "collapsed": false,
    "ExecuteTime": {
     "end_time": "2024-02-06T21:37:05.151127734Z",
     "start_time": "2024-02-06T21:37:05.025483160Z"
    }
   },
   "id": "8a2b8d167a0d9be1",
   "execution_count": 216
  },
  {
   "cell_type": "code",
   "outputs": [],
   "source": [],
   "metadata": {
    "collapsed": false,
    "ExecuteTime": {
     "end_time": "2024-02-06T21:37:06.639930707Z",
     "start_time": "2024-02-06T21:37:06.598966392Z"
    }
   },
   "id": "3d8221d2efc6501e",
   "execution_count": 216
  },
  {
   "cell_type": "code",
   "outputs": [
    {
     "name": "stdout",
     "output_type": "stream",
     "text": [
      "Epoch 1/5\n",
      "3750/3750 [==============================] - 4s 953us/step - loss: 0.2181 - accuracy: 0.9357\n",
      "Epoch 2/5\n",
      "3750/3750 [==============================] - 4s 935us/step - loss: 0.0963 - accuracy: 0.9707\n",
      "Epoch 3/5\n",
      "3750/3750 [==============================] - 4s 1ms/step - loss: 0.0701 - accuracy: 0.9780\n",
      "Epoch 4/5\n",
      "3750/3750 [==============================] - 3s 928us/step - loss: 0.0556 - accuracy: 0.9821\n",
      "Epoch 5/5\n",
      "3750/3750 [==============================] - 3s 909us/step - loss: 0.0468 - accuracy: 0.9848\n"
     ]
    }
   ],
   "source": [
    "\"\"\"Train and evaluate your model\"\"\"\n",
    "\n",
    "history = model.fit(x_train_combo, y_train_combo, epochs=5)"
   ],
   "metadata": {
    "collapsed": false,
    "ExecuteTime": {
     "end_time": "2024-02-06T21:37:26.571544277Z",
     "start_time": "2024-02-06T21:37:07.778382878Z"
    }
   },
   "id": "281f793d19357469",
   "execution_count": 217
  },
  {
   "cell_type": "code",
   "outputs": [
    {
     "name": "stdout",
     "output_type": "stream",
     "text": [
      "625/625 - 0s - loss: 0.0770 - accuracy: 0.9782 - 422ms/epoch - 675us/step\n",
      "Test accuracy: 0.9782000184059143\n"
     ]
    }
   ],
   "source": [
    "\"\"\"compare how the model performs on the test dataset\"\"\"\n",
    "\n",
    "test_loss, test_acc = model.evaluate(x_test_combo, y_test_combo, verbose=2)\n",
    "print(f\"Test accuracy: {test_acc}\")"
   ],
   "metadata": {
    "collapsed": false,
    "ExecuteTime": {
     "end_time": "2024-02-06T21:39:44.811275513Z",
     "start_time": "2024-02-06T21:39:44.270292496Z"
    }
   },
   "id": "6f7c66c896e3957b",
   "execution_count": 218
  },
  {
   "cell_type": "code",
   "outputs": [
    {
     "data": {
      "text/plain": "dict_keys(['loss', 'accuracy'])"
     },
     "execution_count": 219,
     "metadata": {},
     "output_type": "execute_result"
    }
   ],
   "source": [
    "\"\"\"model.fit() returns a History object that contains a dictionary with everything that happened during training:\"\"\"\n",
    "\n",
    "history_dict = history.history\n",
    "history_dict.keys()"
   ],
   "metadata": {
    "collapsed": false,
    "ExecuteTime": {
     "end_time": "2024-02-06T21:39:45.892650860Z",
     "start_time": "2024-02-06T21:39:45.878960910Z"
    }
   },
   "id": "dc2d094c666682ea",
   "execution_count": 219
  },
  {
   "cell_type": "code",
   "outputs": [
    {
     "data": {
      "text/plain": "<Figure size 640x480 with 2 Axes>",
      "image/png": "[encoded data removed]"
     },
     "metadata": {},
     "output_type": "display_data"
    }
   ],
   "source": [
    "acc = history_dict[\"accuracy\"]\n",
    "loss = history_dict[\"loss\"]\n",
    "\n",
    "epochs = range(1, len(acc) + 1)\n",
    "\n",
    "plt.subplot(121)\n",
    "plt.plot(epochs, acc, \"b\", label=\"accuracy\")\n",
    "plt.title(\"accuracy\")\n",
    "plt.xlabel(\"Epochs\")\n",
    "\n",
    "plt.subplot(122)\n",
    "plt.plot(epochs, loss, \"b\", label=\"loss\")\n",
    "plt.title(\"loss\")\n",
    "plt.xlabel(\"Epochs\")\n",
    "\n",
    "plt.show()"
   ],
   "metadata": {
    "collapsed": false,
    "ExecuteTime": {
     "end_time": "2024-02-06T21:39:47.064432310Z",
     "start_time": "2024-02-06T21:39:46.932160022Z"
    }
   },
   "id": "d160425abad83bf8",
   "execution_count": 220
  },
  {
   "cell_type": "code",
   "outputs": [],
   "source": [
    "\"\"\"\n",
    "Make predictions.\n",
    "With the model trained, you can use it to make predictions about some images. Attach a softmax layer to convert the model's linear outputs—logits—to probabilities, which should be easier to interpret.\n",
    "\"\"\"\n",
    "\n",
    "probability_model = tf.keras.Sequential([model, tf.keras.layers.Softmax()])"
   ],
   "metadata": {
    "collapsed": false,
    "ExecuteTime": {
     "end_time": "2024-02-06T21:39:48.903105587Z",
     "start_time": "2024-02-06T21:39:48.876288605Z"
    }
   },
   "id": "3902417a634b7c5b",
   "execution_count": 221
  },
  {
   "cell_type": "code",
   "outputs": [
    {
     "name": "stdout",
     "output_type": "stream",
     "text": [
      "625/625 [==============================] - 0s 557us/step\n"
     ]
    }
   ],
   "source": [
    "predictions = probability_model.predict(x_test_combo)"
   ],
   "metadata": {
    "collapsed": false,
    "ExecuteTime": {
     "end_time": "2024-02-06T21:39:50.498229329Z",
     "start_time": "2024-02-06T21:39:49.884469935Z"
    }
   },
   "id": "146866bc99c71ec7",
   "execution_count": 222
  },
  {
   "cell_type": "code",
   "outputs": [
    {
     "data": {
      "text/plain": "array([7.2339873e-10, 1.6212800e-09, 2.3345462e-08, 4.7291887e-05,\n       1.2200927e-14, 1.5413106e-09, 1.6257555e-19, 9.9994797e-01,\n       1.2987209e-09, 4.6371051e-06], dtype=float32)"
     },
     "execution_count": 223,
     "metadata": {},
     "output_type": "execute_result"
    }
   ],
   "source": [
    "\"\"\"Here, the model has predicted the label for each image in the testing set. Let's take a look at the first prediction:\"\"\"\n",
    "\n",
    "predictions[0]"
   ],
   "metadata": {
    "collapsed": false,
    "ExecuteTime": {
     "end_time": "2024-02-06T21:39:51.295777089Z",
     "start_time": "2024-02-06T21:39:51.287020795Z"
    }
   },
   "id": "9ac86d2cac09eec",
   "execution_count": 223
  },
  {
   "cell_type": "code",
   "outputs": [
    {
     "data": {
      "text/plain": "8"
     },
     "execution_count": 224,
     "metadata": {},
     "output_type": "execute_result"
    }
   ],
   "source": [
    "y_test_combo[110]"
   ],
   "metadata": {
    "collapsed": false,
    "ExecuteTime": {
     "end_time": "2024-02-06T21:39:52.066086556Z",
     "start_time": "2024-02-06T21:39:52.029725240Z"
    }
   },
   "id": "2e0fc782b4e87001",
   "execution_count": 224
  },
  {
   "cell_type": "code",
   "outputs": [],
   "source": [
    "\"\"\"Define functions to graph the full set of 10 class predictions.\"\"\"\n",
    "\n",
    "\n",
    "def plot_image(i, predictions_array, true_label, img):\n",
    "    true_label, img = true_label[i], img[i]\n",
    "    plt.grid(False)\n",
    "    plt.xticks([])\n",
    "    plt.yticks([])\n",
    "\n",
    "    plt.imshow(img, cmap=plt.cm.binary)\n",
    "\n",
    "    predicted_label = np.argmax(predictions_array)\n",
    "    if predicted_label == true_label:\n",
    "        color = \"blue\"\n",
    "    else:\n",
    "        color = \"red\"\n",
    "\n",
    "    plt.xlabel(\n",
    "        \"{} {:2.0f}% ({})\".format(\n",
    "            predicted_label, 100 * np.max(predictions_array), true_label\n",
    "        ),\n",
    "        color=color,\n",
    "    )\n",
    "\n",
    "\n",
    "def plot_value_array(i, predictions_array, true_label):\n",
    "    true_label = true_label[i]\n",
    "    plt.grid(False)\n",
    "    plt.xticks(range(10))\n",
    "    plt.yticks([])\n",
    "    thisplot = plt.bar(range(10), predictions_array, color=\"#777777\")\n",
    "    plt.ylim([0, 1])\n",
    "    predicted_label = np.argmax(predictions_array)\n",
    "\n",
    "    thisplot[predicted_label].set_color(\"red\")\n",
    "    thisplot[true_label].set_color(\"blue\")"
   ],
   "metadata": {
    "collapsed": false,
    "ExecuteTime": {
     "end_time": "2024-02-06T21:39:52.660146816Z",
     "start_time": "2024-02-06T21:39:52.650668385Z"
    }
   },
   "id": "542efcc78c0fb324",
   "execution_count": 225
  },
  {
   "cell_type": "code",
   "outputs": [
    {
     "data": {
      "text/plain": "<Figure size 600x300 with 2 Axes>",
      "image/png": "[encoded data removed]"
     },
     "metadata": {},
     "output_type": "display_data"
    }
   ],
   "source": [
    "\"\"\"Let's look at the 0th image, predictions, and prediction array. Correct prediction labels are blue and incorrect prediction labels are red. The number gives the percentage (out of 100) for the predicted label.\"\"\"\n",
    "\n",
    "i = 110\n",
    "plt.figure(figsize=(6, 3))\n",
    "plt.subplot(1, 2, 1)\n",
    "plot_image(i, predictions[i], y_test_combo, x_test_combo)\n",
    "plt.subplot(1, 2, 2)\n",
    "plot_value_array(i, predictions[i], y_test_combo)\n",
    "plt.show()"
   ],
   "metadata": {
    "collapsed": false,
    "ExecuteTime": {
     "end_time": "2024-02-06T21:39:53.472509149Z",
     "start_time": "2024-02-06T21:39:53.402090853Z"
    }
   },
   "id": "45838a1876909e0a",
   "execution_count": 226
  },
  {
   "cell_type": "code",
   "outputs": [
    {
     "data": {
      "text/plain": "75"
     },
     "execution_count": 247,
     "metadata": {},
     "output_type": "execute_result"
    }
   ],
   "source": [
    "np.count_nonzero(x_test_combo[i])"
   ],
   "metadata": {
    "collapsed": false,
    "ExecuteTime": {
     "end_time": "2024-02-06T21:46:06.747786301Z",
     "start_time": "2024-02-06T21:46:06.699743869Z"
    }
   },
   "id": "114a9be9d0bc7d61",
   "execution_count": 247
  },
  {
   "cell_type": "code",
   "outputs": [
    {
     "data": {
      "text/plain": "<Figure size 1200x1000 with 30 Axes>",
      "image/png": "[encoded data removed]"
     },
     "metadata": {},
     "output_type": "display_data"
    }
   ],
   "source": [
    "# Plot the first X test images, their predicted labels, and the true labels.\n",
    "# Color correct predictions in blue and incorrect predictions in red.\n",
    "num_rows = 5\n",
    "num_cols = 3\n",
    "num_images = num_rows * num_cols\n",
    "plt.figure(figsize=(2 * 2 * num_cols, 2 * num_rows))\n",
    "for i in range(num_images):\n",
    "    plt.subplot(num_rows, 2 * num_cols, 2 * i + 1)\n",
    "    plot_image(i, predictions[i], y_test_combo, x_test_combo)\n",
    "    plt.subplot(num_rows, 2 * num_cols, 2 * i + 2)\n",
    "    plot_value_array(i, predictions[i], y_test_combo)\n",
    "plt.tight_layout()\n",
    "plt.show()"
   ],
   "metadata": {
    "collapsed": false,
    "ExecuteTime": {
     "end_time": "2024-02-06T21:39:55.348801513Z",
     "start_time": "2024-02-06T21:39:54.144868796Z"
    }
   },
   "id": "8b15f0823aeb86f2",
   "execution_count": 227
  },
  {
   "cell_type": "code",
   "outputs": [
    {
     "data": {
      "text/plain": "'-----------------------------'"
     },
     "execution_count": 228,
     "metadata": {},
     "output_type": "execute_result"
    }
   ],
   "source": [
    "\"\"\"-----------------------------\"\"\""
   ],
   "metadata": {
    "collapsed": false,
    "ExecuteTime": {
     "end_time": "2024-02-06T21:39:55.355211261Z",
     "start_time": "2024-02-06T21:39:55.349444180Z"
    }
   },
   "id": "4d6677d6bf05b2a0",
   "execution_count": 228
  },
  {
   "cell_type": "code",
   "outputs": [
    {
     "data": {
      "text/plain": "'Myne'"
     },
     "execution_count": 229,
     "metadata": {},
     "output_type": "execute_result"
    }
   ],
   "source": [
    "\"\"\"Myne\"\"\""
   ],
   "metadata": {
    "collapsed": false,
    "ExecuteTime": {
     "end_time": "2024-02-06T21:39:55.632944768Z",
     "start_time": "2024-02-06T21:39:55.606850011Z"
    }
   },
   "id": "27721cc93ea0690",
   "execution_count": 229
  },
  {
   "cell_type": "code",
   "outputs": [],
   "source": [
    "target_for_tf = [\n",
    "    [\n",
    "        0.0,\n",
    "        0.0,\n",
    "        0.0,\n",
    "        0.0,\n",
    "        0.0,\n",
    "        0.0,\n",
    "        0.0,\n",
    "        0.0,\n",
    "        0.0,\n",
    "        0.0,\n",
    "        0.0,\n",
    "        0.0,\n",
    "        0.0,\n",
    "        0.0,\n",
    "        0.0,\n",
    "        0.0,\n",
    "        0.0,\n",
    "        0.0,\n",
    "        0.0,\n",
    "        0.0,\n",
    "        0.0,\n",
    "        0.0,\n",
    "        0.0,\n",
    "        0.0,\n",
    "        0.0,\n",
    "        0.0,\n",
    "        0.0,\n",
    "        0.0,\n",
    "    ],\n",
    "    [\n",
    "        0.0,\n",
    "        0.0,\n",
    "        0.0,\n",
    "        0.0,\n",
    "        0.0,\n",
    "        0.0,\n",
    "        0.0,\n",
    "        0.0,\n",
    "        0.0,\n",
    "        0.0,\n",
    "        0.0,\n",
    "        0.0,\n",
    "        0.0,\n",
    "        0.0,\n",
    "        0.0,\n",
    "        0.0,\n",
    "        0.0,\n",
    "        0.0,\n",
    "        0.0,\n",
    "        0.0,\n",
    "        0.0,\n",
    "        0.0,\n",
    "        0.0,\n",
    "        0.0,\n",
    "        0.0,\n",
    "        0.0,\n",
    "        0.0,\n",
    "        0.0,\n",
    "    ],\n",
    "    [\n",
    "        0.0,\n",
    "        0.0,\n",
    "        0.0,\n",
    "        0.0,\n",
    "        0.0,\n",
    "        0.0,\n",
    "        0.0,\n",
    "        0.0,\n",
    "        0.0,\n",
    "        0.0,\n",
    "        0.0,\n",
    "        0.0,\n",
    "        0.0,\n",
    "        0.0,\n",
    "        0.0,\n",
    "        0.0,\n",
    "        0.0,\n",
    "        0.0,\n",
    "        0.0,\n",
    "        0.0,\n",
    "        0.0,\n",
    "        0.0,\n",
    "        0.0,\n",
    "        0.0,\n",
    "        0.0,\n",
    "        0.0,\n",
    "        0.0,\n",
    "        0.0,\n",
    "    ],\n",
    "    [\n",
    "        0.0,\n",
    "        0.0,\n",
    "        0.0,\n",
    "        0.0,\n",
    "        0.0,\n",
    "        0.0,\n",
    "        0.0,\n",
    "        0.0,\n",
    "        0.0,\n",
    "        0.0,\n",
    "        0.0,\n",
    "        0.0,\n",
    "        0.0,\n",
    "        0.0,\n",
    "        0.0,\n",
    "        0.0,\n",
    "        0.0,\n",
    "        0.0,\n",
    "        0.0,\n",
    "        0.0,\n",
    "        0.0,\n",
    "        0.0,\n",
    "        0.0,\n",
    "        0.0,\n",
    "        0.0,\n",
    "        0.0,\n",
    "        0.0,\n",
    "        0.0,\n",
    "    ],\n",
    "    [\n",
    "        0.0,\n",
    "        0.0,\n",
    "        0.0,\n",
    "        0.0,\n",
    "        0.0,\n",
    "        0.0,\n",
    "        0.0,\n",
    "        0.0,\n",
    "        0.0,\n",
    "        0.0,\n",
    "        0.0,\n",
    "        0.0,\n",
    "        0.0,\n",
    "        0.0,\n",
    "        0.0,\n",
    "        0.0,\n",
    "        0.0,\n",
    "        0.0,\n",
    "        0.0,\n",
    "        0.0,\n",
    "        0.0,\n",
    "        0.0,\n",
    "        0.0,\n",
    "        0.0,\n",
    "        0.0,\n",
    "        0.0,\n",
    "        0.0,\n",
    "        0.0,\n",
    "    ],\n",
    "    [\n",
    "        0.0,\n",
    "        0.0,\n",
    "        0.0,\n",
    "        0.0,\n",
    "        0.0,\n",
    "        0.0,\n",
    "        0.0,\n",
    "        0.0,\n",
    "        0.0,\n",
    "        0.0,\n",
    "        0.0,\n",
    "        0.16470588235294115,\n",
    "        0.3764705882352941,\n",
    "        0.41960784313725497,\n",
    "        0.3019607843137254,\n",
    "        0.08627450980392148,\n",
    "        0.0,\n",
    "        0.0,\n",
    "        0.0,\n",
    "        0.0,\n",
    "        0.0,\n",
    "        0.0,\n",
    "        0.0,\n",
    "        0.0,\n",
    "        0.0,\n",
    "        0.0,\n",
    "        0.0,\n",
    "        0.0,\n",
    "    ],\n",
    "    [\n",
    "        0.0,\n",
    "        0.0,\n",
    "        0.0,\n",
    "        0.0,\n",
    "        0.0,\n",
    "        0.0,\n",
    "        0.0,\n",
    "        0.0,\n",
    "        0.0,\n",
    "        0.08627450980392148,\n",
    "        0.7333333333333334,\n",
    "        1.0,\n",
    "        1.0,\n",
    "        1.0,\n",
    "        1.0,\n",
    "        0.9686274509803922,\n",
    "        0.5450980392156863,\n",
    "        0.0117647058823529,\n",
    "        0.0,\n",
    "        0.0,\n",
    "        0.0,\n",
    "        0.0,\n",
    "        0.0,\n",
    "        0.0,\n",
    "        0.0,\n",
    "        0.0,\n",
    "        0.0,\n",
    "        0.0,\n",
    "    ],\n",
    "    [\n",
    "        0.0,\n",
    "        0.0,\n",
    "        0.0,\n",
    "        0.0,\n",
    "        0.0,\n",
    "        0.0,\n",
    "        0.0,\n",
    "        0.0,\n",
    "        0.0,\n",
    "        0.7647058823529411,\n",
    "        1.0,\n",
    "        0.615686274509804,\n",
    "        0.180392156862745,\n",
    "        0.0980392156862745,\n",
    "        0.2705882352941176,\n",
    "        0.8117647058823529,\n",
    "        1.0,\n",
    "        0.4784313725490196,\n",
    "        0.0,\n",
    "        0.0,\n",
    "        0.0,\n",
    "        0.0,\n",
    "        0.0,\n",
    "        0.0,\n",
    "        0.0,\n",
    "        0.0,\n",
    "        0.0,\n",
    "        0.0,\n",
    "    ],\n",
    "    [\n",
    "        0.0,\n",
    "        0.0,\n",
    "        0.0,\n",
    "        0.0,\n",
    "        0.0,\n",
    "        0.0,\n",
    "        0.0,\n",
    "        0.0,\n",
    "        0.1215686274509804,\n",
    "        1.0,\n",
    "        0.803921568627451,\n",
    "        0.0,\n",
    "        0.0,\n",
    "        0.0,\n",
    "        0.0,\n",
    "        0.1333333333333332,\n",
    "        1.0,\n",
    "        0.8235294117647058,\n",
    "        0.0,\n",
    "        0.0,\n",
    "        0.0,\n",
    "        0.0,\n",
    "        0.0,\n",
    "        0.0,\n",
    "        0.0,\n",
    "        0.0,\n",
    "        0.0,\n",
    "        0.0,\n",
    "    ],\n",
    "    [\n",
    "        0.0,\n",
    "        0.0,\n",
    "        0.0,\n",
    "        0.0,\n",
    "        0.0,\n",
    "        0.0,\n",
    "        0.0,\n",
    "        0.0,\n",
    "        0.16470588235294115,\n",
    "        1.0,\n",
    "        0.6666666666666667,\n",
    "        0.0,\n",
    "        0.0,\n",
    "        0.0,\n",
    "        0.0,\n",
    "        0.019607843137254832,\n",
    "        0.9921568627450981,\n",
    "        0.8666666666666667,\n",
    "        0.0,\n",
    "        0.0,\n",
    "        0.0,\n",
    "        0.0,\n",
    "        0.0,\n",
    "        0.0,\n",
    "        0.0,\n",
    "        0.0,\n",
    "        0.0,\n",
    "        0.0,\n",
    "    ],\n",
    "    [\n",
    "        0.0,\n",
    "        0.0,\n",
    "        0.0,\n",
    "        0.0,\n",
    "        0.0,\n",
    "        0.0,\n",
    "        0.0,\n",
    "        0.0,\n",
    "        0.0235294117647058,\n",
    "        0.9333333333333333,\n",
    "        0.9176470588235294,\n",
    "        0.07058823529411751,\n",
    "        0.0,\n",
    "        0.0,\n",
    "        0.0,\n",
    "        0.32156862745098036,\n",
    "        1.0,\n",
    "        0.6274509803921569,\n",
    "        0.0,\n",
    "        0.0,\n",
    "        0.0,\n",
    "        0.0,\n",
    "        0.0,\n",
    "        0.0,\n",
    "        0.0,\n",
    "        0.0,\n",
    "        0.0,\n",
    "        0.0,\n",
    "    ],\n",
    "    [\n",
    "        0.0,\n",
    "        0.0,\n",
    "        0.0,\n",
    "        0.0,\n",
    "        0.0,\n",
    "        0.0,\n",
    "        0.0,\n",
    "        0.0,\n",
    "        0.0,\n",
    "        0.38039215686274497,\n",
    "        1.0,\n",
    "        0.8352941176470589,\n",
    "        0.2549019607843136,\n",
    "        0.0039215686274509665,\n",
    "        0.37254901960784315,\n",
    "        0.9490196078431372,\n",
    "        0.8705882352941177,\n",
    "        0.09411764705882342,\n",
    "        0.0,\n",
    "        0.0,\n",
    "        0.0,\n",
    "        0.0,\n",
    "        0.0,\n",
    "        0.0,\n",
    "        0.0,\n",
    "        0.0,\n",
    "        0.0,\n",
    "        0.0,\n",
    "    ],\n",
    "    [\n",
    "        0.0,\n",
    "        0.0,\n",
    "        0.0,\n",
    "        0.0,\n",
    "        0.0,\n",
    "        0.0,\n",
    "        0.0,\n",
    "        0.0,\n",
    "        0.0,\n",
    "        0.0,\n",
    "        0.3647058823529412,\n",
    "        0.9450980392156862,\n",
    "        1.0,\n",
    "        0.9176470588235294,\n",
    "        1.0,\n",
    "        0.6235294117647059,\n",
    "        0.07058823529411751,\n",
    "        0.0,\n",
    "        0.0,\n",
    "        0.0,\n",
    "        0.0,\n",
    "        0.0,\n",
    "        0.0,\n",
    "        0.0,\n",
    "        0.0,\n",
    "        0.0,\n",
    "        0.0,\n",
    "        0.0,\n",
    "    ],\n",
    "    [\n",
    "        0.0,\n",
    "        0.0,\n",
    "        0.0,\n",
    "        0.0,\n",
    "        0.0,\n",
    "        0.0,\n",
    "        0.0,\n",
    "        0.0,\n",
    "        0.0,\n",
    "        0.0039215686274509665,\n",
    "        0.3882352941176469,\n",
    "        0.9254901960784314,\n",
    "        0.9725490196078431,\n",
    "        0.9529411764705882,\n",
    "        1.0,\n",
    "        0.7607843137254902,\n",
    "        0.180392156862745,\n",
    "        0.0,\n",
    "        0.0,\n",
    "        0.0,\n",
    "        0.0,\n",
    "        0.0,\n",
    "        0.0,\n",
    "        0.0,\n",
    "        0.0,\n",
    "        0.0,\n",
    "        0.0,\n",
    "        0.0,\n",
    "    ],\n",
    "    [\n",
    "        0.0,\n",
    "        0.0,\n",
    "        0.0,\n",
    "        0.0,\n",
    "        0.0,\n",
    "        0.0,\n",
    "        0.0,\n",
    "        0.0,\n",
    "        0.0,\n",
    "        0.6313725490196078,\n",
    "        1.0,\n",
    "        0.6823529411764706,\n",
    "        0.1098039215686274,\n",
    "        0.05490196078431364,\n",
    "        0.47058823529411764,\n",
    "        0.9607843137254902,\n",
    "        0.9764705882352941,\n",
    "        0.3176470588235294,\n",
    "        0.0,\n",
    "        0.0,\n",
    "        0.0,\n",
    "        0.0,\n",
    "        0.0,\n",
    "        0.0,\n",
    "        0.0,\n",
    "        0.0,\n",
    "        0.0,\n",
    "        0.0,\n",
    "    ],\n",
    "    [\n",
    "        0.0,\n",
    "        0.0,\n",
    "        0.0,\n",
    "        0.0,\n",
    "        0.0,\n",
    "        0.0,\n",
    "        0.0,\n",
    "        0.0,\n",
    "        0.3294117647058824,\n",
    "        1.0,\n",
    "        0.6862745098039216,\n",
    "        0.0039215686274509665,\n",
    "        0.0,\n",
    "        0.0,\n",
    "        0.0,\n",
    "        0.1725490196078432,\n",
    "        0.9490196078431372,\n",
    "        0.9529411764705882,\n",
    "        0.07450980392156858,\n",
    "        0.0,\n",
    "        0.0,\n",
    "        0.0,\n",
    "        0.0,\n",
    "        0.0,\n",
    "        0.0,\n",
    "        0.0,\n",
    "        0.0,\n",
    "        0.0,\n",
    "    ],\n",
    "    [\n",
    "        0.0,\n",
    "        0.0,\n",
    "        0.0,\n",
    "        0.0,\n",
    "        0.0,\n",
    "        0.0,\n",
    "        0.0,\n",
    "        0.0,\n",
    "        0.6313725490196078,\n",
    "        1.0,\n",
    "        0.25098039215686274,\n",
    "        0.0,\n",
    "        0.0,\n",
    "        0.0,\n",
    "        0.0,\n",
    "        0.0,\n",
    "        0.5647058823529412,\n",
    "        1.0,\n",
    "        0.33725490196078434,\n",
    "        0.0,\n",
    "        0.0,\n",
    "        0.0,\n",
    "        0.0,\n",
    "        0.0,\n",
    "        0.0,\n",
    "        0.0,\n",
    "        0.0,\n",
    "        0.0,\n",
    "    ],\n",
    "    [\n",
    "        0.0,\n",
    "        0.0,\n",
    "        0.0,\n",
    "        0.0,\n",
    "        0.0,\n",
    "        0.0,\n",
    "        0.0,\n",
    "        0.0,\n",
    "        0.6666666666666667,\n",
    "        1.0,\n",
    "        0.21176470588235297,\n",
    "        0.0,\n",
    "        0.0,\n",
    "        0.0,\n",
    "        0.0,\n",
    "        0.0,\n",
    "        0.5215686274509803,\n",
    "        1.0,\n",
    "        0.36078431372549025,\n",
    "        0.0,\n",
    "        0.0,\n",
    "        0.0,\n",
    "        0.0,\n",
    "        0.0,\n",
    "        0.0,\n",
    "        0.0,\n",
    "        0.0,\n",
    "        0.0,\n",
    "    ],\n",
    "    [\n",
    "        0.0,\n",
    "        0.0,\n",
    "        0.0,\n",
    "        0.0,\n",
    "        0.0,\n",
    "        0.0,\n",
    "        0.0,\n",
    "        0.0,\n",
    "        0.4745098039215686,\n",
    "        1.0,\n",
    "        0.5843137254901961,\n",
    "        0.0,\n",
    "        0.0,\n",
    "        0.0,\n",
    "        0.0,\n",
    "        0.050980392156862786,\n",
    "        0.8627450980392157,\n",
    "        0.996078431372549,\n",
    "        0.14509803921568631,\n",
    "        0.0,\n",
    "        0.0,\n",
    "        0.0,\n",
    "        0.0,\n",
    "        0.0,\n",
    "        0.0,\n",
    "        0.0,\n",
    "        0.0,\n",
    "        0.0,\n",
    "    ],\n",
    "    [\n",
    "        0.0,\n",
    "        0.0,\n",
    "        0.0,\n",
    "        0.0,\n",
    "        0.0,\n",
    "        0.0,\n",
    "        0.0,\n",
    "        0.0,\n",
    "        0.06666666666666665,\n",
    "        0.8862745098039215,\n",
    "        1.0,\n",
    "        0.7019607843137254,\n",
    "        0.3882352941176469,\n",
    "        0.3137254901960784,\n",
    "        0.44705882352941173,\n",
    "        0.8627450980392157,\n",
    "        1.0,\n",
    "        0.580392156862745,\n",
    "        0.0,\n",
    "        0.0,\n",
    "        0.0,\n",
    "        0.0,\n",
    "        0.0,\n",
    "        0.0,\n",
    "        0.0,\n",
    "        0.0,\n",
    "        0.0,\n",
    "        0.0,\n",
    "    ],\n",
    "    [\n",
    "        0.0,\n",
    "        0.0,\n",
    "        0.0,\n",
    "        0.0,\n",
    "        0.0,\n",
    "        0.0,\n",
    "        0.0,\n",
    "        0.0,\n",
    "        0.0,\n",
    "        0.11372549019607847,\n",
    "        0.6588235294117647,\n",
    "        0.9764705882352941,\n",
    "        1.0,\n",
    "        1.0,\n",
    "        1.0,\n",
    "        0.8980392156862745,\n",
    "        0.44705882352941173,\n",
    "        0.007843137254901822,\n",
    "        0.0,\n",
    "        0.0,\n",
    "        0.0,\n",
    "        0.0,\n",
    "        0.0,\n",
    "        0.0,\n",
    "        0.0,\n",
    "        0.0,\n",
    "        0.0,\n",
    "        0.0,\n",
    "    ],\n",
    "    [\n",
    "        0.0,\n",
    "        0.0,\n",
    "        0.0,\n",
    "        0.0,\n",
    "        0.0,\n",
    "        0.0,\n",
    "        0.0,\n",
    "        0.0,\n",
    "        0.0,\n",
    "        0.0,\n",
    "        0.0,\n",
    "        0.027450980392156876,\n",
    "        0.16470588235294115,\n",
    "        0.20392156862745092,\n",
    "        0.12941176470588234,\n",
    "        0.0,\n",
    "        0.0,\n",
    "        0.0,\n",
    "        0.0,\n",
    "        0.0,\n",
    "        0.0,\n",
    "        0.0,\n",
    "        0.0,\n",
    "        0.0,\n",
    "        0.0,\n",
    "        0.0,\n",
    "        0.0,\n",
    "        0.0,\n",
    "    ],\n",
    "    [\n",
    "        0.0,\n",
    "        0.0,\n",
    "        0.0,\n",
    "        0.0,\n",
    "        0.0,\n",
    "        0.0,\n",
    "        0.0,\n",
    "        0.0,\n",
    "        0.0,\n",
    "        0.0,\n",
    "        0.0,\n",
    "        0.0,\n",
    "        0.0,\n",
    "        0.0,\n",
    "        0.0,\n",
    "        0.0,\n",
    "        0.0,\n",
    "        0.0,\n",
    "        0.0,\n",
    "        0.0,\n",
    "        0.0,\n",
    "        0.0,\n",
    "        0.0,\n",
    "        0.0,\n",
    "        0.0,\n",
    "        0.0,\n",
    "        0.0,\n",
    "        0.0,\n",
    "    ],\n",
    "    [\n",
    "        0.0,\n",
    "        0.0,\n",
    "        0.0,\n",
    "        0.0,\n",
    "        0.0,\n",
    "        0.0,\n",
    "        0.0,\n",
    "        0.0,\n",
    "        0.0,\n",
    "        0.0,\n",
    "        0.0,\n",
    "        0.0,\n",
    "        0.0,\n",
    "        0.0,\n",
    "        0.0,\n",
    "        0.0,\n",
    "        0.0,\n",
    "        0.0,\n",
    "        0.0,\n",
    "        0.0,\n",
    "        0.0,\n",
    "        0.0,\n",
    "        0.0,\n",
    "        0.0,\n",
    "        0.0,\n",
    "        0.0,\n",
    "        0.0,\n",
    "        0.0,\n",
    "    ],\n",
    "    [\n",
    "        0.0,\n",
    "        0.0,\n",
    "        0.0,\n",
    "        0.0,\n",
    "        0.0,\n",
    "        0.0,\n",
    "        0.0,\n",
    "        0.0,\n",
    "        0.0,\n",
    "        0.0,\n",
    "        0.0,\n",
    "        0.0,\n",
    "        0.0,\n",
    "        0.0,\n",
    "        0.0,\n",
    "        0.0,\n",
    "        0.0,\n",
    "        0.0,\n",
    "        0.0,\n",
    "        0.0,\n",
    "        0.0,\n",
    "        0.0,\n",
    "        0.0,\n",
    "        0.0,\n",
    "        0.0,\n",
    "        0.0,\n",
    "        0.0,\n",
    "        0.0,\n",
    "    ],\n",
    "    [\n",
    "        0.0,\n",
    "        0.0,\n",
    "        0.0,\n",
    "        0.0,\n",
    "        0.0,\n",
    "        0.0,\n",
    "        0.0,\n",
    "        0.0,\n",
    "        0.0,\n",
    "        0.0,\n",
    "        0.0,\n",
    "        0.0,\n",
    "        0.0,\n",
    "        0.0,\n",
    "        0.0,\n",
    "        0.0,\n",
    "        0.0,\n",
    "        0.0,\n",
    "        0.0,\n",
    "        0.0,\n",
    "        0.0,\n",
    "        0.0,\n",
    "        0.0,\n",
    "        0.0,\n",
    "        0.0,\n",
    "        0.0,\n",
    "        0.0,\n",
    "        0.0,\n",
    "    ],\n",
    "    [\n",
    "        0.0,\n",
    "        0.0,\n",
    "        0.0,\n",
    "        0.0,\n",
    "        0.0,\n",
    "        0.0,\n",
    "        0.0,\n",
    "        0.0,\n",
    "        0.0,\n",
    "        0.0,\n",
    "        0.0,\n",
    "        0.0,\n",
    "        0.0,\n",
    "        0.0,\n",
    "        0.0,\n",
    "        0.0,\n",
    "        0.0,\n",
    "        0.0,\n",
    "        0.0,\n",
    "        0.0,\n",
    "        0.0,\n",
    "        0.0,\n",
    "        0.0,\n",
    "        0.0,\n",
    "        0.0,\n",
    "        0.0,\n",
    "        0.0,\n",
    "        0.0,\n",
    "    ],\n",
    "    [\n",
    "        0.0,\n",
    "        0.0,\n",
    "        0.0,\n",
    "        0.0,\n",
    "        0.0,\n",
    "        0.0,\n",
    "        0.0,\n",
    "        0.0,\n",
    "        0.0,\n",
    "        0.0,\n",
    "        0.0,\n",
    "        0.0,\n",
    "        0.0,\n",
    "        0.0,\n",
    "        0.0,\n",
    "        0.0,\n",
    "        0.0,\n",
    "        0.0,\n",
    "        0.0,\n",
    "        0.0,\n",
    "        0.0,\n",
    "        0.0,\n",
    "        0.0,\n",
    "        0.0,\n",
    "        0.0,\n",
    "        0.0,\n",
    "        0.0,\n",
    "        0.0,\n",
    "    ],\n",
    "]"
   ],
   "metadata": {
    "collapsed": false,
    "ExecuteTime": {
     "end_time": "2024-02-06T21:39:56.267961094Z",
     "start_time": "2024-02-06T21:39:56.261400143Z"
    }
   },
   "id": "6ece26e52e77069a",
   "execution_count": 230
  },
  {
   "cell_type": "code",
   "outputs": [
    {
     "data": {
      "text/plain": "<Figure size 640x480 with 1 Axes>",
      "image/png": "[encoded data removed]"
     },
     "metadata": {},
     "output_type": "display_data"
    }
   ],
   "source": [
    "plt.imshow(target_for_tf, cmap=plt.cm.binary)\n",
    "plt.show()"
   ],
   "metadata": {
    "collapsed": false,
    "ExecuteTime": {
     "end_time": "2024-02-06T21:39:56.756171289Z",
     "start_time": "2024-02-06T21:39:56.694448392Z"
    }
   },
   "id": "da4435ae3939d165",
   "execution_count": 231
  },
  {
   "cell_type": "code",
   "outputs": [],
   "source": [
    "my_img = np.array(target_for_tf)"
   ],
   "metadata": {
    "collapsed": false,
    "ExecuteTime": {
     "end_time": "2024-02-06T21:39:57.306118716Z",
     "start_time": "2024-02-06T21:39:57.296800015Z"
    }
   },
   "id": "d4750134882757dd",
   "execution_count": 232
  },
  {
   "cell_type": "code",
   "outputs": [
    {
     "name": "stdout",
     "output_type": "stream",
     "text": [
      "my_img.shape = (28, 28)\n"
     ]
    },
    {
     "data": {
      "text/plain": "array([[0.        , 0.        , 0.        , 0.        , 0.        ,\n        0.        , 0.        , 0.        , 0.        , 0.        ,\n        0.        , 0.        , 0.        , 0.        , 0.        ,\n        0.        , 0.        , 0.        , 0.        , 0.        ,\n        0.        , 0.        , 0.        , 0.        , 0.        ,\n        0.        , 0.        , 0.        ],\n       [0.        , 0.        , 0.        , 0.        , 0.        ,\n        0.        , 0.        , 0.        , 0.        , 0.        ,\n        0.        , 0.        , 0.        , 0.        , 0.        ,\n        0.        , 0.        , 0.        , 0.        , 0.        ,\n        0.        , 0.        , 0.        , 0.        , 0.        ,\n        0.        , 0.        , 0.        ],\n       [0.        , 0.        , 0.        , 0.        , 0.        ,\n        0.        , 0.        , 0.        , 0.        , 0.        ,\n        0.        , 0.        , 0.        , 0.        , 0.        ,\n        0.        , 0.        , 0.        , 0.        , 0.        ,\n        0.        , 0.        , 0.        , 0.        , 0.        ,\n        0.        , 0.        , 0.        ],\n       [0.        , 0.        , 0.        , 0.        , 0.        ,\n        0.        , 0.        , 0.        , 0.        , 0.        ,\n        0.        , 0.        , 0.        , 0.        , 0.        ,\n        0.        , 0.        , 0.        , 0.        , 0.        ,\n        0.        , 0.        , 0.        , 0.        , 0.        ,\n        0.        , 0.        , 0.        ],\n       [0.        , 0.        , 0.        , 0.        , 0.        ,\n        0.        , 0.        , 0.        , 0.        , 0.        ,\n        0.        , 0.        , 0.        , 0.        , 0.        ,\n        0.        , 0.        , 0.        , 0.        , 0.        ,\n        0.        , 0.        , 0.        , 0.        , 0.        ,\n        0.        , 0.        , 0.        ],\n       [0.        , 0.        , 0.        , 0.        , 0.        ,\n        0.        , 0.        , 0.        , 0.        , 0.        ,\n        0.        , 0.16470588, 0.37647059, 0.41960784, 0.30196078,\n        0.08627451, 0.        , 0.        , 0.        , 0.        ,\n        0.        , 0.        , 0.        , 0.        , 0.        ,\n        0.        , 0.        , 0.        ],\n       [0.        , 0.        , 0.        , 0.        , 0.        ,\n        0.        , 0.        , 0.        , 0.        , 0.08627451,\n        0.73333333, 1.        , 1.        , 1.        , 1.        ,\n        0.96862745, 0.54509804, 0.01176471, 0.        , 0.        ,\n        0.        , 0.        , 0.        , 0.        , 0.        ,\n        0.        , 0.        , 0.        ],\n       [0.        , 0.        , 0.        , 0.        , 0.        ,\n        0.        , 0.        , 0.        , 0.        , 0.76470588,\n        1.        , 0.61568627, 0.18039216, 0.09803922, 0.27058824,\n        0.81176471, 1.        , 0.47843137, 0.        , 0.        ,\n        0.        , 0.        , 0.        , 0.        , 0.        ,\n        0.        , 0.        , 0.        ],\n       [0.        , 0.        , 0.        , 0.        , 0.        ,\n        0.        , 0.        , 0.        , 0.12156863, 1.        ,\n        0.80392157, 0.        , 0.        , 0.        , 0.        ,\n        0.13333333, 1.        , 0.82352941, 0.        , 0.        ,\n        0.        , 0.        , 0.        , 0.        , 0.        ,\n        0.        , 0.        , 0.        ],\n       [0.        , 0.        , 0.        , 0.        , 0.        ,\n        0.        , 0.        , 0.        , 0.16470588, 1.        ,\n        0.66666667, 0.        , 0.        , 0.        , 0.        ,\n        0.01960784, 0.99215686, 0.86666667, 0.        , 0.        ,\n        0.        , 0.        , 0.        , 0.        , 0.        ,\n        0.        , 0.        , 0.        ],\n       [0.        , 0.        , 0.        , 0.        , 0.        ,\n        0.        , 0.        , 0.        , 0.02352941, 0.93333333,\n        0.91764706, 0.07058824, 0.        , 0.        , 0.        ,\n        0.32156863, 1.        , 0.62745098, 0.        , 0.        ,\n        0.        , 0.        , 0.        , 0.        , 0.        ,\n        0.        , 0.        , 0.        ],\n       [0.        , 0.        , 0.        , 0.        , 0.        ,\n        0.        , 0.        , 0.        , 0.        , 0.38039216,\n        1.        , 0.83529412, 0.25490196, 0.00392157, 0.37254902,\n        0.94901961, 0.87058824, 0.09411765, 0.        , 0.        ,\n        0.        , 0.        , 0.        , 0.        , 0.        ,\n        0.        , 0.        , 0.        ],\n       [0.        , 0.        , 0.        , 0.        , 0.        ,\n        0.        , 0.        , 0.        , 0.        , 0.        ,\n        0.36470588, 0.94509804, 1.        , 0.91764706, 1.        ,\n        0.62352941, 0.07058824, 0.        , 0.        , 0.        ,\n        0.        , 0.        , 0.        , 0.        , 0.        ,\n        0.        , 0.        , 0.        ],\n       [0.        , 0.        , 0.        , 0.        , 0.        ,\n        0.        , 0.        , 0.        , 0.        , 0.00392157,\n        0.38823529, 0.9254902 , 0.97254902, 0.95294118, 1.        ,\n        0.76078431, 0.18039216, 0.        , 0.        , 0.        ,\n        0.        , 0.        , 0.        , 0.        , 0.        ,\n        0.        , 0.        , 0.        ],\n       [0.        , 0.        , 0.        , 0.        , 0.        ,\n        0.        , 0.        , 0.        , 0.        , 0.63137255,\n        1.        , 0.68235294, 0.10980392, 0.05490196, 0.47058824,\n        0.96078431, 0.97647059, 0.31764706, 0.        , 0.        ,\n        0.        , 0.        , 0.        , 0.        , 0.        ,\n        0.        , 0.        , 0.        ],\n       [0.        , 0.        , 0.        , 0.        , 0.        ,\n        0.        , 0.        , 0.        , 0.32941176, 1.        ,\n        0.68627451, 0.00392157, 0.        , 0.        , 0.        ,\n        0.17254902, 0.94901961, 0.95294118, 0.0745098 , 0.        ,\n        0.        , 0.        , 0.        , 0.        , 0.        ,\n        0.        , 0.        , 0.        ],\n       [0.        , 0.        , 0.        , 0.        , 0.        ,\n        0.        , 0.        , 0.        , 0.63137255, 1.        ,\n        0.25098039, 0.        , 0.        , 0.        , 0.        ,\n        0.        , 0.56470588, 1.        , 0.3372549 , 0.        ,\n        0.        , 0.        , 0.        , 0.        , 0.        ,\n        0.        , 0.        , 0.        ],\n       [0.        , 0.        , 0.        , 0.        , 0.        ,\n        0.        , 0.        , 0.        , 0.66666667, 1.        ,\n        0.21176471, 0.        , 0.        , 0.        , 0.        ,\n        0.        , 0.52156863, 1.        , 0.36078431, 0.        ,\n        0.        , 0.        , 0.        , 0.        , 0.        ,\n        0.        , 0.        , 0.        ],\n       [0.        , 0.        , 0.        , 0.        , 0.        ,\n        0.        , 0.        , 0.        , 0.4745098 , 1.        ,\n        0.58431373, 0.        , 0.        , 0.        , 0.        ,\n        0.05098039, 0.8627451 , 0.99607843, 0.14509804, 0.        ,\n        0.        , 0.        , 0.        , 0.        , 0.        ,\n        0.        , 0.        , 0.        ],\n       [0.        , 0.        , 0.        , 0.        , 0.        ,\n        0.        , 0.        , 0.        , 0.06666667, 0.88627451,\n        1.        , 0.70196078, 0.38823529, 0.31372549, 0.44705882,\n        0.8627451 , 1.        , 0.58039216, 0.        , 0.        ,\n        0.        , 0.        , 0.        , 0.        , 0.        ,\n        0.        , 0.        , 0.        ],\n       [0.        , 0.        , 0.        , 0.        , 0.        ,\n        0.        , 0.        , 0.        , 0.        , 0.11372549,\n        0.65882353, 0.97647059, 1.        , 1.        , 1.        ,\n        0.89803922, 0.44705882, 0.00784314, 0.        , 0.        ,\n        0.        , 0.        , 0.        , 0.        , 0.        ,\n        0.        , 0.        , 0.        ],\n       [0.        , 0.        , 0.        , 0.        , 0.        ,\n        0.        , 0.        , 0.        , 0.        , 0.        ,\n        0.        , 0.02745098, 0.16470588, 0.20392157, 0.12941176,\n        0.        , 0.        , 0.        , 0.        , 0.        ,\n        0.        , 0.        , 0.        , 0.        , 0.        ,\n        0.        , 0.        , 0.        ],\n       [0.        , 0.        , 0.        , 0.        , 0.        ,\n        0.        , 0.        , 0.        , 0.        , 0.        ,\n        0.        , 0.        , 0.        , 0.        , 0.        ,\n        0.        , 0.        , 0.        , 0.        , 0.        ,\n        0.        , 0.        , 0.        , 0.        , 0.        ,\n        0.        , 0.        , 0.        ],\n       [0.        , 0.        , 0.        , 0.        , 0.        ,\n        0.        , 0.        , 0.        , 0.        , 0.        ,\n        0.        , 0.        , 0.        , 0.        , 0.        ,\n        0.        , 0.        , 0.        , 0.        , 0.        ,\n        0.        , 0.        , 0.        , 0.        , 0.        ,\n        0.        , 0.        , 0.        ],\n       [0.        , 0.        , 0.        , 0.        , 0.        ,\n        0.        , 0.        , 0.        , 0.        , 0.        ,\n        0.        , 0.        , 0.        , 0.        , 0.        ,\n        0.        , 0.        , 0.        , 0.        , 0.        ,\n        0.        , 0.        , 0.        , 0.        , 0.        ,\n        0.        , 0.        , 0.        ],\n       [0.        , 0.        , 0.        , 0.        , 0.        ,\n        0.        , 0.        , 0.        , 0.        , 0.        ,\n        0.        , 0.        , 0.        , 0.        , 0.        ,\n        0.        , 0.        , 0.        , 0.        , 0.        ,\n        0.        , 0.        , 0.        , 0.        , 0.        ,\n        0.        , 0.        , 0.        ],\n       [0.        , 0.        , 0.        , 0.        , 0.        ,\n        0.        , 0.        , 0.        , 0.        , 0.        ,\n        0.        , 0.        , 0.        , 0.        , 0.        ,\n        0.        , 0.        , 0.        , 0.        , 0.        ,\n        0.        , 0.        , 0.        , 0.        , 0.        ,\n        0.        , 0.        , 0.        ],\n       [0.        , 0.        , 0.        , 0.        , 0.        ,\n        0.        , 0.        , 0.        , 0.        , 0.        ,\n        0.        , 0.        , 0.        , 0.        , 0.        ,\n        0.        , 0.        , 0.        , 0.        , 0.        ,\n        0.        , 0.        , 0.        , 0.        , 0.        ,\n        0.        , 0.        , 0.        ]])"
     },
     "execution_count": 233,
     "metadata": {},
     "output_type": "execute_result"
    }
   ],
   "source": [
    "print(f\"{my_img.shape = }\")\n",
    "my_img"
   ],
   "metadata": {
    "collapsed": false,
    "ExecuteTime": {
     "end_time": "2024-02-06T21:39:57.798843108Z",
     "start_time": "2024-02-06T21:39:57.790713310Z"
    }
   },
   "id": "80e5c49174e6844",
   "execution_count": 233
  },
  {
   "cell_type": "code",
   "outputs": [
    {
     "name": "stdout",
     "output_type": "stream",
     "text": [
      "img_to_predict.shape = (1, 28, 28)\n"
     ]
    }
   ],
   "source": [
    "# Add the image to a batch where it's the only member.\n",
    "img_to_predict = np.expand_dims(my_img, axis=0)\n",
    "\n",
    "print(f\"{img_to_predict.shape = }\")"
   ],
   "metadata": {
    "collapsed": false,
    "ExecuteTime": {
     "end_time": "2024-02-06T21:39:58.287473361Z",
     "start_time": "2024-02-06T21:39:58.246226620Z"
    }
   },
   "id": "cff0d75a16f73d28",
   "execution_count": 234
  },
  {
   "cell_type": "code",
   "outputs": [
    {
     "name": "stdout",
     "output_type": "stream",
     "text": [
      "1/1 [==============================] - 0s 43ms/step\n"
     ]
    },
    {
     "data": {
      "text/plain": "array([[3.1300291e-01, 5.4841926e-06, 4.8250362e-02, 6.9320515e-02,\n        1.3752723e-02, 2.4872287e-01, 2.1449421e-03, 4.9543502e-03,\n        2.9658642e-01, 3.2593822e-03]], dtype=float32)"
     },
     "execution_count": 235,
     "metadata": {},
     "output_type": "execute_result"
    }
   ],
   "source": [
    "predictions_single = probability_model.predict(img_to_predict)\n",
    "\n",
    "predictions_single"
   ],
   "metadata": {
    "collapsed": false,
    "ExecuteTime": {
     "end_time": "2024-02-06T21:40:00.566031823Z",
     "start_time": "2024-02-06T21:40:00.484038218Z"
    }
   },
   "id": "ccd2c62b207d1171",
   "execution_count": 235
  },
  {
   "cell_type": "code",
   "outputs": [
    {
     "data": {
      "text/plain": "0"
     },
     "execution_count": 236,
     "metadata": {},
     "output_type": "execute_result"
    }
   ],
   "source": [
    "np.argmax(predictions_single[0])"
   ],
   "metadata": {
    "collapsed": false,
    "ExecuteTime": {
     "end_time": "2024-02-06T21:40:01.459080561Z",
     "start_time": "2024-02-06T21:40:01.408489560Z"
    }
   },
   "id": "4ed9626e4a6c0987",
   "execution_count": 236
  },
  {
   "cell_type": "code",
   "outputs": [
    {
     "data": {
      "text/plain": "<Figure size 640x480 with 1 Axes>",
      "image/png": "[encoded data removed]"
     },
     "metadata": {},
     "output_type": "display_data"
    }
   ],
   "source": [
    "plot_value_array(0, predictions_single[0], y_test)"
   ],
   "metadata": {
    "collapsed": false,
    "ExecuteTime": {
     "end_time": "2024-02-06T21:40:03.146206959Z",
     "start_time": "2024-02-06T21:40:03.052232183Z"
    }
   },
   "id": "dc519371d3f8c842",
   "execution_count": 237
  },
  {
   "cell_type": "code",
   "outputs": [
    {
     "data": {
      "text/plain": "'-------save model------'"
     },
     "execution_count": 238,
     "metadata": {},
     "output_type": "execute_result"
    }
   ],
   "source": [
    "\"\"\"-------save model------\"\"\""
   ],
   "metadata": {
    "collapsed": false,
    "ExecuteTime": {
     "end_time": "2024-02-06T21:40:04.108071886Z",
     "start_time": "2024-02-06T21:40:04.098012114Z"
    }
   },
   "id": "9261b56672c9465",
   "execution_count": 238
  },
  {
   "cell_type": "code",
   "outputs": [],
   "source": [
    "from dj_config.settings import BASE_DIR\n",
    "import keras\n",
    "from datetime import datetime\n",
    "\n",
    "model_version = datetime.now().strftime(\"%Y_%m_%d_%H_%M\")\n",
    "\n",
    "\"\"\"# The file needs to end with the .keras extension\"\"\"\n",
    "model_save_path = f\"{BASE_DIR}/ml_data/trained_mnist_{model_version}.keras\"\n",
    "\n",
    "model.save(model_save_path)"
   ],
   "metadata": {
    "collapsed": false,
    "ExecuteTime": {
     "end_time": "2024-02-06T21:40:12.219473228Z",
     "start_time": "2024-02-06T21:40:12.174758051Z"
    }
   },
   "id": "9eab100fc8c04b9c",
   "execution_count": 239
  },
  {
   "cell_type": "code",
   "outputs": [],
   "source": [
    "\"\"\"Loading the model back:\"\"\"\n",
    "\n",
    "reconstructed_model = keras.models.load_model(model_save_path)"
   ],
   "metadata": {
    "collapsed": false,
    "ExecuteTime": {
     "end_time": "2024-02-06T21:40:13.538783300Z",
     "start_time": "2024-02-06T21:40:13.488245810Z"
    }
   },
   "id": "18ab1a9703e6048f",
   "execution_count": 240
  },
  {
   "cell_type": "code",
   "outputs": [
    {
     "name": "stdout",
     "output_type": "stream",
     "text": [
      "625/625 [==============================] - 0s 525us/step\n",
      "625/625 [==============================] - 0s 505us/step\n"
     ]
    }
   ],
   "source": [
    "\"\"\"Let's check:\"\"\"\n",
    "\n",
    "np.testing.assert_allclose(\n",
    "    model.predict(x_test_combo),\n",
    "    reconstructed_model.predict(x_test_combo),\n",
    ")"
   ],
   "metadata": {
    "collapsed": false,
    "ExecuteTime": {
     "end_time": "2024-02-06T21:40:15.441256599Z",
     "start_time": "2024-02-06T21:40:14.254955878Z"
    }
   },
   "id": "82351c820bb0ebb",
   "execution_count": 241
  },
  {
   "cell_type": "code",
   "outputs": [
    {
     "name": "stdout",
     "output_type": "stream",
     "text": [
      "625/625 [==============================] - 0s 492us/step\n"
     ]
    }
   ],
   "source": [
    "reconstructed_probability_model = tf.keras.Sequential(\n",
    "    [reconstructed_model, tf.keras.layers.Softmax()]\n",
    ")\n",
    "reconstructed_predictions = reconstructed_probability_model.predict(x_test_combo)"
   ],
   "metadata": {
    "collapsed": false,
    "ExecuteTime": {
     "end_time": "2024-02-06T21:40:16.031728248Z",
     "start_time": "2024-02-06T21:40:15.443858425Z"
    }
   },
   "id": "bc07f1ea8ee6f722",
   "execution_count": 242
  },
  {
   "cell_type": "code",
   "outputs": [
    {
     "name": "stdout",
     "output_type": "stream",
     "text": [
      "1/1 [==============================] - 0s 42ms/step\n",
      "reconstructed_predictions_single = array([[3.1300291e-01, 5.4841926e-06, 4.8250362e-02, 6.9320515e-02,\n",
      "        1.3752723e-02, 2.4872287e-01, 2.1449421e-03, 4.9543502e-03,\n",
      "        2.9658642e-01, 3.2593822e-03]], dtype=float32)\n",
      "predictions number = 0\n"
     ]
    },
    {
     "data": {
      "text/plain": "<Figure size 640x480 with 1 Axes>",
      "image/png": "[encoded data removed]"
     },
     "metadata": {},
     "output_type": "display_data"
    }
   ],
   "source": [
    "reconstructed_predictions_single = reconstructed_probability_model.predict(\n",
    "    img_to_predict\n",
    ")\n",
    "\n",
    "print(f\"{reconstructed_predictions_single = }\")\n",
    "print(f\"predictions number = {np.argmax(reconstructed_predictions_single[0])}\")\n",
    "plot_value_array(0, reconstructed_predictions_single[0], y_test)"
   ],
   "metadata": {
    "collapsed": false,
    "ExecuteTime": {
     "end_time": "2024-02-06T21:40:16.229062436Z",
     "start_time": "2024-02-06T21:40:16.075289166Z"
    }
   },
   "id": "820d744a05055f94",
   "execution_count": 243
  },
  {
   "cell_type": "code",
   "outputs": [],
   "source": [
    "\"\"\"save x_test_combo data\"\"\"\n",
    "\n",
    "import json\n",
    "\n",
    "x_test_path = f\"{BASE_DIR}/ml_data/x_test_{model_version}.json\"\n",
    "\n",
    "with open(x_test_path, \"w\") as report_file:\n",
    "    json.dump(\n",
    "        obj=x_test_combo.tolist(),\n",
    "        fp=report_file,\n",
    "        ensure_ascii=False,\n",
    "    )"
   ],
   "metadata": {
    "collapsed": false,
    "ExecuteTime": {
     "end_time": "2024-02-06T21:40:37.701710069Z",
     "start_time": "2024-02-06T21:40:29.090289991Z"
    }
   },
   "id": "7279bf93466e1341",
   "execution_count": 244
  },
  {
   "cell_type": "code",
   "outputs": [
    {
     "data": {
      "text/plain": "CompletedProcess(args=['xz', '/home/valikq/PycharmProjects/SudokuML/ml_data/x_test_2024_02_07_00_40.json'], returncode=0, stdout='', stderr='')"
     },
     "execution_count": 245,
     "metadata": {},
     "output_type": "execute_result"
    }
   ],
   "source": [
    "import subprocess\n",
    "\n",
    "command_str = f\"xz {x_test_path}\"\n",
    "\n",
    "subprocess.run(\n",
    "    command_str.split(\" \"),\n",
    "    capture_output=True,\n",
    "    check=True,\n",
    "    encoding=\"utf-8\",\n",
    ")"
   ],
   "metadata": {
    "collapsed": false,
    "ExecuteTime": {
     "end_time": "2024-02-06T21:40:53.566542256Z",
     "start_time": "2024-02-06T21:40:37.747327079Z"
    }
   },
   "id": "d6c326e88d8343fa",
   "execution_count": 245
  },
  {
   "cell_type": "code",
   "outputs": [
    {
     "data": {
      "text/plain": "'----------------DONE-------------------'"
     },
     "execution_count": 246,
     "metadata": {},
     "output_type": "execute_result"
    }
   ],
   "source": [
    "\"\"\"----------------DONE-------------------\"\"\""
   ],
   "metadata": {
    "collapsed": false,
    "ExecuteTime": {
     "end_time": "2024-02-06T21:40:53.569940628Z",
     "start_time": "2024-02-06T21:40:53.566280815Z"
    }
   },
   "id": "4071f3803ddfa994",
   "execution_count": 246
  },
  {
   "cell_type": "code",
   "outputs": [],
   "source": [],
   "metadata": {
    "collapsed": false,
    "ExecuteTime": {
     "end_time": "2024-02-06T21:34:07.958312143Z",
     "start_time": "2024-02-06T21:34:07.955505002Z"
    }
   },
   "id": "6581cc7828e67cee",
   "execution_count": 209
  }
 ],
 "metadata": {
  "kernelspec": {
   "display_name": "Python 3",
   "language": "python",
   "name": "python3"
  },
  "language_info": {
   "codemirror_mode": {
    "name": "ipython",
    "version": 2
   },
   "file_extension": ".py",
   "mimetype": "text/x-python",
   "name": "python",
   "nbconvert_exporter": "python",
   "pygments_lexer": "ipython2",
   "version": "2.7.6"
  }
 },
 "nbformat": 4,
 "nbformat_minor": 5
}
