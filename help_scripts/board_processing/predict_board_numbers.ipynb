{
 "cells": [
  {
   "cell_type": "code",
   "execution_count": 35,
   "id": "initial_id",
   "metadata": {
    "collapsed": true,
    "ExecuteTime": {
     "end_time": "2024-02-06T21:41:25.561576146Z",
     "start_time": "2024-02-06T21:41:25.557870427Z"
    }
   },
   "outputs": [],
   "source": [
    "import json\n",
    "import subprocess\n",
    "\n",
    "import keras\n",
    "import matplotlib.pyplot as plt\n",
    "import numpy as np\n",
    "import tensorflow as tf\n",
    "import tensorflow_datasets as tfds\n",
    "\n",
    "from dj_config.settings import BASE_DIR"
   ]
  },
  {
   "cell_type": "code",
   "outputs": [
    {
     "name": "stdout",
     "output_type": "stream",
     "text": [
      "tf = 2.15.0 | tfds = 4.9.4\n",
      "tf.Tensor(-78.6428, shape=(), dtype=float32)\n",
      "[]\n"
     ]
    }
   ],
   "source": [
    "\"\"\"Verify the installation\"\"\"\n",
    "\n",
    "print(f\"tf = {tf.__version__} | tfds = {tfds.__version__}\")\n",
    "print(tf.reduce_sum(tf.random.normal([1000, 1000])))\n",
    "print(tf.config.list_physical_devices(\"GPU\"))"
   ],
   "metadata": {
    "collapsed": false,
    "ExecuteTime": {
     "end_time": "2024-02-06T21:41:25.570518471Z",
     "start_time": "2024-02-06T21:41:25.561741868Z"
    }
   },
   "id": "60e7e45fdccf727",
   "execution_count": 36
  },
  {
   "cell_type": "code",
   "outputs": [],
   "source": [
    "\"\"\"Define functions to graph the full set of 10 class predictions.\"\"\"\n",
    "\n",
    "\n",
    "def plot_image(i, predictions_array, true_label, img):\n",
    "    true_label, img = true_label[i], img[i]\n",
    "    plt.grid(False)\n",
    "    plt.xticks([])\n",
    "    plt.yticks([])\n",
    "\n",
    "    plt.imshow(img, cmap=plt.cm.binary)\n",
    "\n",
    "    predicted_label = np.argmax(predictions_array)\n",
    "    if predicted_label == true_label:\n",
    "        color = \"blue\"\n",
    "    else:\n",
    "        color = \"red\"\n",
    "\n",
    "    plt.xlabel(\n",
    "        \"{} {:2.0f}% ({})\".format(\n",
    "            predicted_label, 100 * np.max(predictions_array), true_label\n",
    "        ),\n",
    "        color=color,\n",
    "    )\n",
    "\n",
    "\n",
    "def plot_value_array(i, predictions_array, true_label):\n",
    "    true_label = true_label[i]\n",
    "    plt.grid(False)\n",
    "    plt.xticks(range(10))\n",
    "    plt.yticks([])\n",
    "    thisplot = plt.bar(range(10), predictions_array, color=\"#777777\")\n",
    "    plt.ylim([0, 1])\n",
    "    predicted_label = np.argmax(predictions_array)\n",
    "\n",
    "    thisplot[predicted_label].set_color(\"red\")\n",
    "    thisplot[true_label].set_color(\"blue\")"
   ],
   "metadata": {
    "collapsed": false,
    "ExecuteTime": {
     "end_time": "2024-02-06T22:11:41.631489597Z",
     "start_time": "2024-02-06T22:11:41.589557773Z"
    }
   },
   "id": "1e3cb55cffda24c1",
   "execution_count": 64
  },
  {
   "cell_type": "code",
   "outputs": [],
   "source": [
    "labels = [0, 1, 2, 3, 4, 5, 6, 7, 8, 9]"
   ],
   "metadata": {
    "collapsed": false,
    "ExecuteTime": {
     "end_time": "2024-02-06T21:41:25.588745582Z",
     "start_time": "2024-02-06T21:41:25.587117384Z"
    }
   },
   "id": "224889904d9b4f9b",
   "execution_count": 38
  },
  {
   "cell_type": "code",
   "outputs": [
    {
     "data": {
      "text/plain": "(20000, 28, 28)"
     },
     "execution_count": 39,
     "metadata": {},
     "output_type": "execute_result"
    }
   ],
   "source": [
    "\"\"\"load x_test_combo data\"\"\"\n",
    "\n",
    "saved_x_test = \"x_test_2024_02_07_00_40\"\n",
    "x_test_path = f\"{BASE_DIR}/ml_data/{saved_x_test}.json\"\n",
    "\n",
    "command_str = f\"xz -d {x_test_path}.xz\"\n",
    "\n",
    "subprocess.run(\n",
    "    command_str.split(\" \"),\n",
    "    capture_output=True,\n",
    "    check=True,\n",
    "    encoding=\"utf-8\",\n",
    ")\n",
    "\n",
    "with open(x_test_path, \"r\") as report_file:\n",
    "    x_test_data = json.load(report_file)\n",
    "\n",
    "command_str = f\"xz {x_test_path}\"\n",
    "\n",
    "subprocess.run(\n",
    "    command_str.split(\" \"),\n",
    "    capture_output=True,\n",
    "    check=True,\n",
    "    encoding=\"utf-8\",\n",
    ")\n",
    "\n",
    "x_test = np.array(x_test_data)\n",
    "x_test.shape"
   ],
   "metadata": {
    "collapsed": false,
    "ExecuteTime": {
     "end_time": "2024-02-06T21:41:47.615456828Z",
     "start_time": "2024-02-06T21:41:25.587169943Z"
    }
   },
   "id": "e2615b71474b2f6b",
   "execution_count": 39
  },
  {
   "cell_type": "code",
   "outputs": [],
   "source": [
    "\"\"\"Loading the model \"\"\"\n",
    "\n",
    "saved_model = \"trained_mnist_2024_02_06_20_36\"\n",
    "model_save_path = f\"{BASE_DIR}/ml_data/{saved_model}.keras\"\n",
    "\n",
    "model = keras.models.load_model(model_save_path)"
   ],
   "metadata": {
    "collapsed": false,
    "ExecuteTime": {
     "end_time": "2024-02-06T22:32:09.086196733Z",
     "start_time": "2024-02-06T22:32:09.039123077Z"
    }
   },
   "id": "2c2eee6e1bafa8bd",
   "execution_count": 119
  },
  {
   "cell_type": "code",
   "outputs": [
    {
     "name": "stdout",
     "output_type": "stream",
     "text": [
      "625/625 [==============================] - 0s 488us/step\n"
     ]
    }
   ],
   "source": [
    "probability_model = tf.keras.Sequential([model, tf.keras.layers.Softmax()])\n",
    "predictions = probability_model.predict(x_test)"
   ],
   "metadata": {
    "collapsed": false,
    "ExecuteTime": {
     "end_time": "2024-02-06T22:32:11.592407072Z",
     "start_time": "2024-02-06T22:32:11.022666187Z"
    }
   },
   "id": "61b56c03d4e95347",
   "execution_count": 120
  },
  {
   "cell_type": "code",
   "outputs": [
    {
     "data": {
      "text/plain": "(9, 28, 28)"
     },
     "execution_count": 121,
     "metadata": {},
     "output_type": "execute_result"
    }
   ],
   "source": [
    "\"\"\"Load board data\"\"\"\n",
    "\n",
    "board_name = \"easy_34\"\n",
    "board_data_path = f\"{BASE_DIR}/ml_data/board_data_{board_name}.json\"\n",
    "\n",
    "with open(board_data_path, \"r\") as report_file:\n",
    "    _board_data = json.load(report_file)\n",
    "\n",
    "board_data = np.array(_board_data)\n",
    "board_data.shape"
   ],
   "metadata": {
    "collapsed": false,
    "ExecuteTime": {
     "end_time": "2024-02-06T22:32:13.024854479Z",
     "start_time": "2024-02-06T22:32:13.020773790Z"
    }
   },
   "id": "5b66c0c21471b7d5",
   "execution_count": 121
  },
  {
   "cell_type": "code",
   "outputs": [
    {
     "name": "stdout",
     "output_type": "stream",
     "text": [
      "1/1 [==============================] - 0s 35ms/step\n",
      "1/1 [==============================] - 0s 10ms/step\n",
      "1/1 [==============================] - 0s 11ms/step\n"
     ]
    }
   ],
   "source": [
    "\"\"\"predict board numbers\"\"\"\n",
    "\n",
    "prediction_numbers = []\n",
    "for board_number in board_data:\n",
    "    if np.count_nonzero(board_number) == 0:\n",
    "        prediction_numbers.append(0)\n",
    "        continue\n",
    "\n",
    "    img_to_predict = np.expand_dims(board_number, axis=0)\n",
    "    # print(f\"{img_to_predict.shape = }\")\n",
    "\n",
    "    predictions_single = probability_model.predict(img_to_predict)\n",
    "    prediction_number = np.argmax(predictions_single[0])\n",
    "    # print(f\"{prediction_number = }\")\n",
    "    prediction_numbers.append(prediction_number)"
   ],
   "metadata": {
    "collapsed": false,
    "ExecuteTime": {
     "end_time": "2024-02-06T22:32:14.823523811Z",
     "start_time": "2024-02-06T22:32:14.648661773Z"
    }
   },
   "id": "9af0775a0b00fb05",
   "execution_count": 122
  },
  {
   "cell_type": "code",
   "outputs": [
    {
     "data": {
      "text/plain": "<Figure size 900x900 with 10 Axes>",
      "image/png": "[encoded data removed]"
     },
     "metadata": {},
     "output_type": "display_data"
    }
   ],
   "source": [
    "plt.show()\n",
    "plt.figure(figsize=(9, 9))\n",
    "plt.title(\"board data\")\n",
    "for count, number_data in enumerate(board_data):\n",
    "    plt.subplot(9, 9, count + 1)\n",
    "    plt.imshow(number_data, cmap=plt.cm.binary)\n",
    "plt.show()"
   ],
   "metadata": {
    "collapsed": false,
    "ExecuteTime": {
     "end_time": "2024-02-06T22:32:16.047403405Z",
     "start_time": "2024-02-06T22:32:15.618834399Z"
    }
   },
   "id": "6cb4a9d71a13c687",
   "execution_count": 123
  },
  {
   "cell_type": "code",
   "outputs": [
    {
     "data": {
      "text/plain": "array([2, 0, 0, 0, 0, 2, 0, 0, 3])"
     },
     "execution_count": 124,
     "metadata": {},
     "output_type": "execute_result"
    }
   ],
   "source": [
    "tf_numbers = np.array(prediction_numbers)\n",
    "tf_numbers.reshape((9, 1))\n",
    "tf_numbers"
   ],
   "metadata": {
    "collapsed": false,
    "ExecuteTime": {
     "end_time": "2024-02-06T22:32:17.375360899Z",
     "start_time": "2024-02-06T22:32:17.373153926Z"
    }
   },
   "id": "5b2903bfd51a561e",
   "execution_count": 124
  },
  {
   "cell_type": "code",
   "outputs": [
    {
     "name": "stdout",
     "output_type": "stream",
     "text": [
      "1/1 [==============================] - 0s 10ms/step\n",
      "1/1 [==============================] - 0s 10ms/step\n",
      "1/1 [==============================] - 0s 11ms/step\n",
      "1/1 [==============================] - 0s 10ms/step\n",
      "1/1 [==============================] - 0s 10ms/step\n",
      "1/1 [==============================] - 0s 10ms/step\n",
      "1/1 [==============================] - 0s 10ms/step\n",
      "1/1 [==============================] - 0s 10ms/step\n",
      "1/1 [==============================] - 0s 10ms/step\n"
     ]
    },
    {
     "ename": "IndexError",
     "evalue": "index 9 is out of bounds for axis 0 with size 9",
     "output_type": "error",
     "traceback": [
      "\u001B[0;31m---------------------------------------------------------------------------\u001B[0m",
      "\u001B[0;31mIndexError\u001B[0m                                Traceback (most recent call last)",
      "Cell \u001B[0;32mIn[125], line 8\u001B[0m\n\u001B[1;32m      5\u001B[0m plt\u001B[38;5;241m.\u001B[39mtitle(\u001B[38;5;124m\"\u001B[39m\u001B[38;5;124mprediction data\u001B[39m\u001B[38;5;124m\"\u001B[39m)\n\u001B[1;32m      6\u001B[0m \u001B[38;5;28;01mfor\u001B[39;00m i \u001B[38;5;129;01min\u001B[39;00m \u001B[38;5;28mrange\u001B[39m(num_images):\n\u001B[0;32m----> 8\u001B[0m     img_to_predict \u001B[38;5;241m=\u001B[39m np\u001B[38;5;241m.\u001B[39mexpand_dims(\u001B[43mboard_data\u001B[49m\u001B[43m[\u001B[49m\u001B[43mi\u001B[49m\u001B[43m]\u001B[49m, axis\u001B[38;5;241m=\u001B[39m\u001B[38;5;241m0\u001B[39m)\n\u001B[1;32m      9\u001B[0m     predictions_single \u001B[38;5;241m=\u001B[39m probability_model\u001B[38;5;241m.\u001B[39mpredict(img_to_predict)\n\u001B[1;32m     11\u001B[0m     plt\u001B[38;5;241m.\u001B[39msubplot(num_rows, \u001B[38;5;241m2\u001B[39m \u001B[38;5;241m*\u001B[39m num_cols, \u001B[38;5;241m2\u001B[39m \u001B[38;5;241m*\u001B[39m i \u001B[38;5;241m+\u001B[39m \u001B[38;5;241m1\u001B[39m)\n",
      "\u001B[0;31mIndexError\u001B[0m: index 9 is out of bounds for axis 0 with size 9"
     ]
    },
    {
     "data": {
      "text/plain": "<Figure size 3600x1800 with 19 Axes>",
      "image/png": "[encoded data removed]"
     },
     "metadata": {},
     "output_type": "display_data"
    }
   ],
   "source": [
    "num_rows = 9\n",
    "num_cols = 9\n",
    "num_images = num_rows * num_cols\n",
    "plt.figure(figsize=(2 * 2 * num_cols, 2 * num_rows))\n",
    "plt.title(\"prediction data\")\n",
    "for i in range(num_images):\n",
    "\n",
    "    img_to_predict = np.expand_dims(board_data[i], axis=0)\n",
    "    predictions_single = probability_model.predict(img_to_predict)\n",
    "\n",
    "    plt.subplot(num_rows, 2 * num_cols, 2 * i + 1)\n",
    "    plot_image(i, predictions_single[0], labels, board_data)\n",
    "    plt.subplot(num_rows, 2 * num_cols, 2 * i + 2)\n",
    "    plot_value_array(i, predictions_single[0], labels)\n",
    "plt.tight_layout()\n",
    "plt.show()"
   ],
   "metadata": {
    "collapsed": false,
    "ExecuteTime": {
     "end_time": "2024-02-06T22:32:19.603277239Z",
     "start_time": "2024-02-06T22:32:18.495424261Z"
    }
   },
   "id": "dc71fdf2e6a57e53",
   "execution_count": 125
  },
  {
   "cell_type": "code",
   "outputs": [],
   "source": [
    "\"\"\"single test\"\"\"\n",
    "\n",
    "number_position = 4\n",
    "\n",
    "test_number = np.expand_dims(board_data[number_position], axis=0)\n",
    "print(f\"{test_number.shape = }\")\n",
    "\n",
    "test_predictions = probability_model.predict(test_number)\n",
    "\n",
    "# print(f\"{test_predictions = }\")\n",
    "print(f\"prediction number = {np.argmax(test_predictions[0])}\")\n",
    "plot_value_array(0, test_predictions[0], labels)"
   ],
   "metadata": {
    "collapsed": false,
    "ExecuteTime": {
     "end_time": "2024-02-06T22:25:40.254621448Z",
     "start_time": "2024-02-06T22:25:39.846972894Z"
    }
   },
   "id": "22db481a41acde28",
   "execution_count": null
  },
  {
   "cell_type": "code",
   "outputs": [],
   "source": [],
   "metadata": {
    "collapsed": false,
    "ExecuteTime": {
     "start_time": "2024-02-06T22:25:39.887359853Z"
    }
   },
   "id": "c72334c56791324e",
   "execution_count": null
  }
 ],
 "metadata": {
  "kernelspec": {
   "display_name": "Python 3",
   "language": "python",
   "name": "python3"
  },
  "language_info": {
   "codemirror_mode": {
    "name": "ipython",
    "version": 2
   },
   "file_extension": ".py",
   "mimetype": "text/x-python",
   "name": "python",
   "nbconvert_exporter": "python",
   "pygments_lexer": "ipython2",
   "version": "2.7.6"
  }
 },
 "nbformat": 4,
 "nbformat_minor": 5
}
